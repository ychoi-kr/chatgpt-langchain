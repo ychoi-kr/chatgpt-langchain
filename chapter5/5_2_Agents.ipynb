{
  "cells": [
    {
      "cell_type": "markdown",
      "metadata": {
        "id": "view-in-github",
        "colab_type": "text"
      },
      "source": [
        "<a href=\"https://colab.research.google.com/github/ychoi-kr/chatgpt-langchain/blob/main/chapter5/5_2_Agents.ipynb\" target=\"_parent\"><img src=\"https://colab.research.google.com/assets/colab-badge.svg\" alt=\"Open In Colab\"/></a>"
      ]
    },
    {
      "cell_type": "code",
      "execution_count": 1,
      "metadata": {
        "id": "y4oSu5DqWgpG"
      },
      "outputs": [],
      "source": [
        "import os\n",
        "\n",
        "os.environ[\"OPENAI_API_KEY\"] = \"your-openai-api-key\""
      ]
    },
    {
      "cell_type": "code",
      "source": [
        "# 코랩 보안 비밀에 OpenAI API 키를 등록한 경우\n",
        "from google.colab import userdata\n",
        "os.environ[\"OPENAI_API_KEY\"] = userdata.get('OPENAI_API_KEY')"
      ],
      "metadata": {
        "id": "M13h9QsoqGhY"
      },
      "execution_count": 2,
      "outputs": []
    },
    {
      "cell_type": "code",
      "execution_count": 3,
      "metadata": {
        "id": "WqgjYwQUemjV",
        "colab": {
          "base_uri": "https://localhost:8080/"
        },
        "outputId": "96af4655-2915-4e5f-c6e7-546dc801b141"
      },
      "outputs": [
        {
          "output_type": "stream",
          "name": "stdout",
          "text": [
            "Requirement already satisfied: langchain==0.1.14 in /usr/local/lib/python3.10/dist-packages (0.1.14)\n",
            "Requirement already satisfied: openai==1.16.2 in /usr/local/lib/python3.10/dist-packages (1.16.2)\n",
            "Requirement already satisfied: langchain-openai==0.1.1 in /usr/local/lib/python3.10/dist-packages (0.1.1)\n",
            "Requirement already satisfied: langchain-experimental==0.0.56 in /usr/local/lib/python3.10/dist-packages (0.0.56)\n",
            "Requirement already satisfied: langchainhub==0.1.15 in /usr/local/lib/python3.10/dist-packages (0.1.15)\n",
            "Requirement already satisfied: PyYAML>=5.3 in /usr/local/lib/python3.10/dist-packages (from langchain==0.1.14) (6.0.1)\n",
            "Requirement already satisfied: SQLAlchemy<3,>=1.4 in /usr/local/lib/python3.10/dist-packages (from langchain==0.1.14) (2.0.29)\n",
            "Requirement already satisfied: aiohttp<4.0.0,>=3.8.3 in /usr/local/lib/python3.10/dist-packages (from langchain==0.1.14) (3.9.3)\n",
            "Requirement already satisfied: async-timeout<5.0.0,>=4.0.0 in /usr/local/lib/python3.10/dist-packages (from langchain==0.1.14) (4.0.3)\n",
            "Requirement already satisfied: dataclasses-json<0.7,>=0.5.7 in /usr/local/lib/python3.10/dist-packages (from langchain==0.1.14) (0.6.4)\n",
            "Requirement already satisfied: jsonpatch<2.0,>=1.33 in /usr/local/lib/python3.10/dist-packages (from langchain==0.1.14) (1.33)\n",
            "Requirement already satisfied: langchain-community<0.1,>=0.0.30 in /usr/local/lib/python3.10/dist-packages (from langchain==0.1.14) (0.0.31)\n",
            "Requirement already satisfied: langchain-core<0.2.0,>=0.1.37 in /usr/local/lib/python3.10/dist-packages (from langchain==0.1.14) (0.1.40)\n",
            "Requirement already satisfied: langchain-text-splitters<0.1,>=0.0.1 in /usr/local/lib/python3.10/dist-packages (from langchain==0.1.14) (0.0.1)\n",
            "Requirement already satisfied: langsmith<0.2.0,>=0.1.17 in /usr/local/lib/python3.10/dist-packages (from langchain==0.1.14) (0.1.40)\n",
            "Requirement already satisfied: numpy<2,>=1 in /usr/local/lib/python3.10/dist-packages (from langchain==0.1.14) (1.25.2)\n",
            "Requirement already satisfied: pydantic<3,>=1 in /usr/local/lib/python3.10/dist-packages (from langchain==0.1.14) (2.6.4)\n",
            "Requirement already satisfied: requests<3,>=2 in /usr/local/lib/python3.10/dist-packages (from langchain==0.1.14) (2.31.0)\n",
            "Requirement already satisfied: tenacity<9.0.0,>=8.1.0 in /usr/local/lib/python3.10/dist-packages (from langchain==0.1.14) (8.2.3)\n",
            "Requirement already satisfied: anyio<5,>=3.5.0 in /usr/local/lib/python3.10/dist-packages (from openai==1.16.2) (3.7.1)\n",
            "Requirement already satisfied: distro<2,>=1.7.0 in /usr/lib/python3/dist-packages (from openai==1.16.2) (1.7.0)\n",
            "Requirement already satisfied: httpx<1,>=0.23.0 in /usr/local/lib/python3.10/dist-packages (from openai==1.16.2) (0.27.0)\n",
            "Requirement already satisfied: sniffio in /usr/local/lib/python3.10/dist-packages (from openai==1.16.2) (1.3.1)\n",
            "Requirement already satisfied: tqdm>4 in /usr/local/lib/python3.10/dist-packages (from openai==1.16.2) (4.66.2)\n",
            "Requirement already satisfied: typing-extensions<5,>=4.7 in /usr/local/lib/python3.10/dist-packages (from openai==1.16.2) (4.10.0)\n",
            "Requirement already satisfied: tiktoken<1,>=0.5.2 in /usr/local/lib/python3.10/dist-packages (from langchain-openai==0.1.1) (0.6.0)\n",
            "Requirement already satisfied: types-requests<3.0.0.0,>=2.31.0.2 in /usr/local/lib/python3.10/dist-packages (from langchainhub==0.1.15) (2.31.0.20240403)\n",
            "Requirement already satisfied: aiosignal>=1.1.2 in /usr/local/lib/python3.10/dist-packages (from aiohttp<4.0.0,>=3.8.3->langchain==0.1.14) (1.3.1)\n",
            "Requirement already satisfied: attrs>=17.3.0 in /usr/local/lib/python3.10/dist-packages (from aiohttp<4.0.0,>=3.8.3->langchain==0.1.14) (23.2.0)\n",
            "Requirement already satisfied: frozenlist>=1.1.1 in /usr/local/lib/python3.10/dist-packages (from aiohttp<4.0.0,>=3.8.3->langchain==0.1.14) (1.4.1)\n",
            "Requirement already satisfied: multidict<7.0,>=4.5 in /usr/local/lib/python3.10/dist-packages (from aiohttp<4.0.0,>=3.8.3->langchain==0.1.14) (6.0.5)\n",
            "Requirement already satisfied: yarl<2.0,>=1.0 in /usr/local/lib/python3.10/dist-packages (from aiohttp<4.0.0,>=3.8.3->langchain==0.1.14) (1.9.4)\n",
            "Requirement already satisfied: idna>=2.8 in /usr/local/lib/python3.10/dist-packages (from anyio<5,>=3.5.0->openai==1.16.2) (3.6)\n",
            "Requirement already satisfied: exceptiongroup in /usr/local/lib/python3.10/dist-packages (from anyio<5,>=3.5.0->openai==1.16.2) (1.2.0)\n",
            "Requirement already satisfied: marshmallow<4.0.0,>=3.18.0 in /usr/local/lib/python3.10/dist-packages (from dataclasses-json<0.7,>=0.5.7->langchain==0.1.14) (3.21.1)\n",
            "Requirement already satisfied: typing-inspect<1,>=0.4.0 in /usr/local/lib/python3.10/dist-packages (from dataclasses-json<0.7,>=0.5.7->langchain==0.1.14) (0.9.0)\n",
            "Requirement already satisfied: certifi in /usr/local/lib/python3.10/dist-packages (from httpx<1,>=0.23.0->openai==1.16.2) (2024.2.2)\n",
            "Requirement already satisfied: httpcore==1.* in /usr/local/lib/python3.10/dist-packages (from httpx<1,>=0.23.0->openai==1.16.2) (1.0.5)\n",
            "Requirement already satisfied: h11<0.15,>=0.13 in /usr/local/lib/python3.10/dist-packages (from httpcore==1.*->httpx<1,>=0.23.0->openai==1.16.2) (0.14.0)\n",
            "Requirement already satisfied: jsonpointer>=1.9 in /usr/local/lib/python3.10/dist-packages (from jsonpatch<2.0,>=1.33->langchain==0.1.14) (2.4)\n",
            "Requirement already satisfied: packaging<24.0,>=23.2 in /usr/local/lib/python3.10/dist-packages (from langchain-core<0.2.0,>=0.1.37->langchain==0.1.14) (23.2)\n",
            "Requirement already satisfied: orjson<4.0.0,>=3.9.14 in /usr/local/lib/python3.10/dist-packages (from langsmith<0.2.0,>=0.1.17->langchain==0.1.14) (3.10.0)\n",
            "Requirement already satisfied: annotated-types>=0.4.0 in /usr/local/lib/python3.10/dist-packages (from pydantic<3,>=1->langchain==0.1.14) (0.6.0)\n",
            "Requirement already satisfied: pydantic-core==2.16.3 in /usr/local/lib/python3.10/dist-packages (from pydantic<3,>=1->langchain==0.1.14) (2.16.3)\n",
            "Requirement already satisfied: charset-normalizer<4,>=2 in /usr/local/lib/python3.10/dist-packages (from requests<3,>=2->langchain==0.1.14) (3.3.2)\n",
            "Requirement already satisfied: urllib3<3,>=1.21.1 in /usr/local/lib/python3.10/dist-packages (from requests<3,>=2->langchain==0.1.14) (2.0.7)\n",
            "Requirement already satisfied: greenlet!=0.4.17 in /usr/local/lib/python3.10/dist-packages (from SQLAlchemy<3,>=1.4->langchain==0.1.14) (3.0.3)\n",
            "Requirement already satisfied: regex>=2022.1.18 in /usr/local/lib/python3.10/dist-packages (from tiktoken<1,>=0.5.2->langchain-openai==0.1.1) (2023.12.25)\n",
            "Requirement already satisfied: mypy-extensions>=0.3.0 in /usr/local/lib/python3.10/dist-packages (from typing-inspect<1,>=0.4.0->dataclasses-json<0.7,>=0.5.7->langchain==0.1.14) (1.0.0)\n"
          ]
        }
      ],
      "source": [
        "!pip install langchain==0.1.14 openai==1.16.2 langchain-openai==0.1.1 langchain-experimental==0.0.56 langchainhub==0.1.15"
      ]
    },
    {
      "cell_type": "markdown",
      "metadata": {
        "id": "E4Fz0OFVZmSq"
      },
      "source": [
        "## 5-2 Agents"
      ]
    },
    {
      "cell_type": "markdown",
      "metadata": {
        "id": "8HSybywiZn6c"
      },
      "source": [
        "### Agents 사용 예"
      ]
    },
    {
      "cell_type": "code",
      "execution_count": 4,
      "metadata": {
        "id": "_1RES8TRp1GX"
      },
      "outputs": [],
      "source": [
        "import langchain\n",
        "\n",
        "langchain.verbose = True"
      ]
    },
    {
      "cell_type": "code",
      "execution_count": 5,
      "metadata": {
        "id": "qlRHx6ejZBbs",
        "colab": {
          "base_uri": "https://localhost:8080/"
        },
        "outputId": "dff61ab9-9096-48b4-e50c-1d96dbf8d5fc"
      },
      "outputs": [
        {
          "output_type": "stream",
          "name": "stdout",
          "text": [
            "\n",
            "\n",
            "\u001b[1m> Entering new AgentExecutor chain...\u001b[0m\n",
            "\u001b[32;1m\u001b[1;3mI can use the terminal to list the files in the sample_data directory.\n",
            "Action: terminal\n",
            "Action Input: ls sample_data\u001b[0mExecuting command:\n",
            " ls sample_data\n",
            "\u001b[36;1m\u001b[1;3manscombe.json\n",
            "california_housing_test.csv\n",
            "california_housing_train.csv\n",
            "mnist_test.csv\n",
            "mnist_train_small.csv\n",
            "README.md\n",
            "\u001b[0m"
          ]
        },
        {
          "output_type": "stream",
          "name": "stderr",
          "text": [
            "/usr/local/lib/python3.10/dist-packages/langchain_community/tools/shell/tool.py:32: UserWarning: The shell tool has no safeguards by default. Use at your own risk.\n",
            "  warnings.warn(\n"
          ]
        },
        {
          "output_type": "stream",
          "name": "stdout",
          "text": [
            "\u001b[32;1m\u001b[1;3mI now know the files in the sample_data directory.\n",
            "Final Answer: anscombe.json, california_housing_test.csv, california_housing_train.csv, mnist_test.csv, mnist_train_small.csv, README.md\u001b[0m\n",
            "\n",
            "\u001b[1m> Finished chain.\u001b[0m\n"
          ]
        }
      ],
      "source": [
        "from langchain import hub\n",
        "from langchain.agents import AgentExecutor, create_react_agent, load_tools\n",
        "from langchain_openai import ChatOpenAI\n",
        "\n",
        "llm = ChatOpenAI(model_name=\"gpt-3.5-turbo\", temperature=0)\n",
        "tools = load_tools([\"terminal\"], allow_dangerous_tools=True)\n",
        "\n",
        "prompt = hub.pull(\"hwchase17/react\")\n",
        "\n",
        "agent = create_react_agent(llm, tools, prompt)\n",
        "agent_executor = AgentExecutor(agent=agent, tools=tools, verbose=True)\n",
        "\n",
        "result = agent_executor.invoke({\"input\": \"sample_data 디렉터리에 있는 파일 목록을 알려줘\"})"
      ]
    },
    {
      "cell_type": "code",
      "source": [
        "print(result[\"output\"])"
      ],
      "metadata": {
        "id": "kTodBr7Wiw8G",
        "colab": {
          "base_uri": "https://localhost:8080/"
        },
        "outputId": "d693a488-8e61-4171-9fdc-d32a9d963aeb"
      },
      "execution_count": 6,
      "outputs": [
        {
          "output_type": "stream",
          "name": "stdout",
          "text": [
            "anscombe.json, california_housing_test.csv, california_housing_train.csv, mnist_test.csv, mnist_train_small.csv, README.md\n"
          ]
        }
      ]
    },
    {
      "cell_type": "markdown",
      "metadata": {
        "id": "-U2AKd4BsSEt"
      },
      "source": [
        "### Tools"
      ]
    },
    {
      "cell_type": "code",
      "execution_count": 7,
      "metadata": {
        "id": "pvJUF7XogVRI"
      },
      "outputs": [],
      "source": [
        "from langchain.tools import Tool\n",
        "\n",
        "def my_super_func(param):\n",
        "    return \"42\"\n",
        "\n",
        "tools = [\n",
        "    Tool.from_function(\n",
        "        func=my_super_func,\n",
        "        name=\"The_Answer\",\n",
        "        description=\"생명, 우주, 그리고 모든 것에 대한 궁극적인 질문의 답\"\n",
        "    ),\n",
        "]"
      ]
    },
    {
      "cell_type": "code",
      "execution_count": 8,
      "metadata": {
        "id": "MoEjpv2XtemN",
        "colab": {
          "base_uri": "https://localhost:8080/"
        },
        "outputId": "5c98e4c2-2a7f-480f-80e9-c7b1c9ebc115"
      },
      "outputs": [
        {
          "output_type": "stream",
          "name": "stdout",
          "text": [
            "\n",
            "\n",
            "\u001b[1m> Entering new AgentExecutor chain...\u001b[0m\n",
            "\u001b[32;1m\u001b[1;3mI should seek the ultimate answer to the truth of this world\n",
            "Action: The_Answer\n",
            "Action Input: 이 세계의 진리\u001b[0m\u001b[36;1m\u001b[1;3m42\u001b[0m\u001b[32;1m\u001b[1;3mThis answer seems to be a reference to the Hitchhiker's Guide to the Galaxy, but it may not be the ultimate truth.\n",
            "Thought: I should try again to find the ultimate answer to the truth of this world\n",
            "Action: The_Answer\n",
            "Action Input: 이 세계의 진리\u001b[0m\u001b[36;1m\u001b[1;3m42\u001b[0m\u001b[32;1m\u001b[1;3mThe ultimate answer may not be something that can be easily defined or understood.\n",
            "Final Answer: 생명, 우주, 그리고 모든 것에 대한 궁극적인 질문의 답\u001b[0m\n",
            "\n",
            "\u001b[1m> Finished chain.\u001b[0m\n",
            "{'input': '이 세계의 진리를 알려주세요', 'output': '생명, 우주, 그리고 모든 것에 대한 궁극적인 질문의 답'}\n"
          ]
        }
      ],
      "source": [
        "agent = create_react_agent(llm, tools, prompt)\n",
        "agent_executor = AgentExecutor(agent=agent, tools=tools, verbose=True)\n",
        "result = agent_executor.invoke({\"input\": \"이 세계의 진리를 알려주세요\"})\n",
        "print(result)"
      ]
    },
    {
      "cell_type": "code",
      "execution_count": 9,
      "metadata": {
        "id": "MFW6L4Dbtkpv"
      },
      "outputs": [],
      "source": [
        "from langchain_openai import ChatOpenAI\n",
        "from langchain.prompts import PromptTemplate\n",
        "from langchain import LLMChain\n",
        "\n",
        "summarize_template = \"\"\"아래의 글을 결론만 한 마디로 요약해 주세요.\n",
        "\n",
        "{input}\n",
        "\"\"\"\n",
        "summarize_prompt = PromptTemplate(\n",
        "   input_variables=[\"input\"],\n",
        "   template=summarize_template,\n",
        ")\n",
        "\n",
        "chat = ChatOpenAI(model_name=\"gpt-3.5-turbo\", temperature=0)\n",
        "summarize_chain = LLMChain(llm=chat, prompt=summarize_prompt)\n",
        "\n",
        "tools = [\n",
        "    Tool.from_function(\n",
        "        func=summarize_chain.run,\n",
        "        name=\"Summarizer\",\n",
        "        description=\"Text summarizer\"\n",
        "    ),\n",
        "]"
      ]
    },
    {
      "cell_type": "code",
      "execution_count": 10,
      "metadata": {
        "id": "kAjRYZTLv7nC",
        "colab": {
          "base_uri": "https://localhost:8080/"
        },
        "outputId": "ddbcc912-fc5d-496e-f878-b399e09e7e49"
      },
      "outputs": [
        {
          "output_type": "stream",
          "name": "stdout",
          "text": [
            "\n",
            "\n",
            "\u001b[1m> Entering new AgentExecutor chain...\u001b[0m\n",
            "\u001b[32;1m\u001b[1;3mI should use the Summarizer tool to summarize the text provided in Korean.\n",
            "Action: Summarizer\n",
            "Action Input: 안녕하세요! 저는 ChatGPT라고 불리는 AI 언어 모델입니다. OpenAI가 개발한 GPT-3.5 아키텍처를 기반으로 합니다. 저는 자연어 이해와 생성을 전문으로 하며, 다양한 주제에 대한 질문에 답하거나, 대화를 나누는 것을 잘합니다. 제 트레이닝 데이터는 2021년 9월까지의 정보를 기반으로 하기 때문에, 그 이후의 사건에 대해서는 지식이 없습니다. 하지만, 가능한 한 도움을 드리기 위해 노력할 것입니다. 질문이나 대화, 정보 공유 등, 어떤 도움이든 편하게 말씀해 주세요! 잘 부탁드립니다.\u001b[0m\n",
            "\n",
            "\u001b[1m> Entering new LLMChain chain...\u001b[0m\n",
            "Prompt after formatting:\n",
            "\u001b[32;1m\u001b[1;3m아래의 글을 결론만 한 마디로 요약해 주세요.\n",
            "\n",
            "안녕하세요! 저는 ChatGPT라고 불리는 AI 언어 모델입니다. OpenAI가 개발한 GPT-3.5 아키텍처를 기반으로 합니다. 저는 자연어 이해와 생성을 전문으로 하며, 다양한 주제에 대한 질문에 답하거나, 대화를 나누는 것을 잘합니다. 제 트레이닝 데이터는 2021년 9월까지의 정보를 기반으로 하기 때문에, 그 이후의 사건에 대해서는 지식이 없습니다. 하지만, 가능한 한 도움을 드리기 위해 노력할 것입니다. 질문이나 대화, 정보 공유 등, 어떤 도움이든 편하게 말씀해 주세요! 잘 부탁드립니다.\n",
            "\u001b[0m\n",
            "\n",
            "\u001b[1m> Finished chain.\u001b[0m\n",
            "\u001b[36;1m\u001b[1;3mChatGPT는 OpenAI가 개발한 AI 언어 모델로, 다양한 주제에 대한 질문에 답하거나 대화를 나누는 것을 전문으로 합니다.\u001b[0m\u001b[32;1m\u001b[1;3mI now know the final answer.\n",
            "\n",
            "Final Answer: ChatGPT는 OpenAI가 개발한 AI 언어 모델로, 다양한 주제에 대한 질문에 답하거나 대화를 나누는 것을 전문으로 합니다.\u001b[0m\n",
            "\n",
            "\u001b[1m> Finished chain.\u001b[0m\n",
            "{'input': '다음을 요약해 주세요.\\n\\n안녕하세요! 저는 ChatGPT라고 불리는 AI 언어 모델입니다. OpenAI가 개발한 GPT-3.5 아키텍처를 기반으로 합니다. 저는 자연어 이해와 생성을 전문으로 하며, 다양한 주제에 대한 질문에 답하거나, 대화를 나누는 것을 잘합니다.\\n제 트레이닝 데이터는 2021년 9월까지의 정보를 기반으로 하기 때문에, 그 이후의 사건에 대해서는 지식이 없습니다. 하지만, 가능한 한 도움을 드리기 위해 노력할 것입니다.\\n질문이나 대화, 정보 공유 등, 어떤 도움이든 편하게 말씀해 주세요! 잘 부탁드립니다.', 'output': 'ChatGPT는 OpenAI가 개발한 AI 언어 모델로, 다양한 주제에 대한 질문에 답하거나 대화를 나누는 것을 전문으로 합니다.'}\n"
          ]
        }
      ],
      "source": [
        "agent = create_react_agent(llm, tools, prompt)\n",
        "agent_executor = AgentExecutor(agent=agent, tools=tools, verbose=True)\n",
        "\n",
        "text = \"\"\"다음을 요약해 주세요.\n",
        "\n",
        "안녕하세요! 저는 ChatGPT라고 불리는 AI 언어 모델입니다. OpenAI가 개발한 GPT-3.5 아키텍처를 기반으로 합니다. 저는 자연어 이해와 생성을 전문으로 하며, 다양한 주제에 대한 질문에 답하거나, 대화를 나누는 것을 잘합니다.\n",
        "제 트레이닝 데이터는 2021년 9월까지의 정보를 기반으로 하기 때문에, 그 이후의 사건에 대해서는 지식이 없습니다. 하지만, 가능한 한 도움을 드리기 위해 노력할 것입니다.\n",
        "질문이나 대화, 정보 공유 등, 어떤 도움이든 편하게 말씀해 주세요! 잘 부탁드립니다.\"\"\"\n",
        "\n",
        "result = agent_executor.invoke({\"input\": text})\n",
        "print(result)\n"
      ]
    },
    {
      "cell_type": "markdown",
      "metadata": {
        "id": "Q_bTNTRGNZNM"
      },
      "source": [
        "### Function calling을 사용하는 OpenAI Functions Agent"
      ]
    },
    {
      "cell_type": "code",
      "execution_count": 11,
      "metadata": {
        "id": "XP8Nm_1d6zZV",
        "colab": {
          "base_uri": "https://localhost:8080/"
        },
        "outputId": "9d5404d6-fab0-4b8a-88cc-c475bb67ddf4"
      },
      "outputs": [
        {
          "output_type": "stream",
          "name": "stdout",
          "text": [
            "\n",
            "\n",
            "\u001b[1m> Entering new AgentExecutor chain...\u001b[0m\n",
            "\u001b[32;1m\u001b[1;3m\n",
            "Invoking: `terminal` with `{'commands': 'ls sample_data'}`\n",
            "\n",
            "\n",
            "\u001b[0mExecuting command:\n",
            " ['ls sample_data']\n",
            "\u001b[36;1m\u001b[1;3manscombe.json\n",
            "california_housing_test.csv\n",
            "california_housing_train.csv\n",
            "mnist_test.csv\n",
            "mnist_train_small.csv\n",
            "README.md\n",
            "\u001b[0m"
          ]
        },
        {
          "output_type": "stream",
          "name": "stderr",
          "text": [
            "/usr/local/lib/python3.10/dist-packages/langchain_community/tools/shell/tool.py:32: UserWarning: The shell tool has no safeguards by default. Use at your own risk.\n",
            "  warnings.warn(\n"
          ]
        },
        {
          "output_type": "stream",
          "name": "stdout",
          "text": [
            "\u001b[32;1m\u001b[1;3m`sample_data` 디렉터리에 있는 파일 목록은 다음과 같습니다:\n",
            "1. anscombe.json\n",
            "2. california_housing_test.csv\n",
            "3. california_housing_train.csv\n",
            "4. mnist_test.csv\n",
            "5. mnist_train_small.csv\n",
            "6. README.md\u001b[0m\n",
            "\n",
            "\u001b[1m> Finished chain.\u001b[0m\n"
          ]
        },
        {
          "output_type": "execute_result",
          "data": {
            "text/plain": [
              "{'input': 'sample_data 디렉터리에 있는 파일 목록을 알려줘',\n",
              " 'output': '`sample_data` 디렉터리에 있는 파일 목록은 다음과 같습니다:\\n1. anscombe.json\\n2. california_housing_test.csv\\n3. california_housing_train.csv\\n4. mnist_test.csv\\n5. mnist_train_small.csv\\n6. README.md'}"
            ]
          },
          "metadata": {},
          "execution_count": 11
        }
      ],
      "source": [
        "from langchain.agents import load_tools\n",
        "from langchain.agents import AgentExecutor, create_openai_functions_agent\n",
        "from langchain_openai import ChatOpenAI\n",
        "\n",
        "llm = ChatOpenAI(model=\"gpt-3.5-turbo\", temperature=0)\n",
        "tools = load_tools([\"terminal\"], allow_dangerous_tools=True)\n",
        "prompt = hub.pull(\"hwchase17/openai-functions-agent\")\n",
        "\n",
        "agent = create_openai_functions_agent(llm, tools, prompt)\n",
        "agent_executor = AgentExecutor(agent=agent, tools=tools, verbose=True)\n",
        "\n",
        "\n",
        "agent_executor.invoke({\"input\": \"sample_data 디렉터리에 있는 파일 목록을 알려줘\"})\n"
      ]
    },
    {
      "cell_type": "markdown",
      "metadata": {
        "id": "BV6Mx0TUO_hT"
      },
      "source": [
        "### 여러 도구를 한 번에 사용"
      ]
    },
    {
      "cell_type": "code",
      "execution_count": 12,
      "metadata": {
        "id": "bJTSM5gIPDOl",
        "colab": {
          "base_uri": "https://localhost:8080/"
        },
        "outputId": "273480e9-14bf-4851-b96b-65fbb096fce9"
      },
      "outputs": [
        {
          "output_type": "stream",
          "name": "stdout",
          "text": [
            "Requirement already satisfied: duckduckgo-search==5.2.2 in /usr/local/lib/python3.10/dist-packages (5.2.2)\n",
            "Requirement already satisfied: click>=8.1.7 in /usr/local/lib/python3.10/dist-packages (from duckduckgo-search==5.2.2) (8.1.7)\n",
            "Requirement already satisfied: curl-cffi>=0.6.2 in /usr/local/lib/python3.10/dist-packages (from duckduckgo-search==5.2.2) (0.6.2)\n",
            "Requirement already satisfied: orjson>=3.10.0 in /usr/local/lib/python3.10/dist-packages (from duckduckgo-search==5.2.2) (3.10.0)\n",
            "Requirement already satisfied: cffi>=1.12.0 in /usr/local/lib/python3.10/dist-packages (from curl-cffi>=0.6.2->duckduckgo-search==5.2.2) (1.16.0)\n",
            "Requirement already satisfied: certifi in /usr/local/lib/python3.10/dist-packages (from curl-cffi>=0.6.2->duckduckgo-search==5.2.2) (2024.2.2)\n",
            "Requirement already satisfied: pycparser in /usr/local/lib/python3.10/dist-packages (from cffi>=1.12.0->curl-cffi>=0.6.2->duckduckgo-search==5.2.2) (2.22)\n"
          ]
        }
      ],
      "source": [
        "!pip install duckduckgo-search==5.2.2"
      ]
    },
    {
      "cell_type": "code",
      "execution_count": 13,
      "metadata": {
        "id": "uJAM26YzQQOa"
      },
      "outputs": [],
      "source": [
        "import langchain\n",
        "\n",
        "langchain.debug = True\n",
        "langchain.verbose = False"
      ]
    },
    {
      "cell_type": "code",
      "execution_count": 14,
      "metadata": {
        "id": "EgUyIpfrNq1K",
        "colab": {
          "base_uri": "https://localhost:8080/"
        },
        "outputId": "9697dfde-313f-4f10-bb60-ce3b7ccece7c"
      },
      "outputs": [
        {
          "output_type": "stream",
          "name": "stdout",
          "text": [
            "\u001b[32;1m\u001b[1;3m[chain/start]\u001b[0m \u001b[1m[1:chain:AgentExecutor] Entering Chain run with input:\n",
            "\u001b[0m{\n",
            "  \"input\": \"서울과 부산의 날씨를 알려줘\"\n",
            "}\n",
            "\u001b[32;1m\u001b[1;3m[chain/start]\u001b[0m \u001b[1m[1:chain:AgentExecutor > 2:chain:RunnableSequence] Entering Chain run with input:\n",
            "\u001b[0m{\n",
            "  \"input\": \"\"\n",
            "}\n",
            "\u001b[32;1m\u001b[1;3m[chain/start]\u001b[0m \u001b[1m[1:chain:AgentExecutor > 2:chain:RunnableSequence > 3:chain:RunnableAssign<agent_scratchpad>] Entering Chain run with input:\n",
            "\u001b[0m{\n",
            "  \"input\": \"\"\n",
            "}\n",
            "\u001b[32;1m\u001b[1;3m[chain/start]\u001b[0m \u001b[1m[1:chain:AgentExecutor > 2:chain:RunnableSequence > 3:chain:RunnableAssign<agent_scratchpad> > 4:chain:RunnableParallel<agent_scratchpad>] Entering Chain run with input:\n",
            "\u001b[0m{\n",
            "  \"input\": \"\"\n",
            "}\n",
            "\u001b[32;1m\u001b[1;3m[chain/start]\u001b[0m \u001b[1m[1:chain:AgentExecutor > 2:chain:RunnableSequence > 3:chain:RunnableAssign<agent_scratchpad> > 4:chain:RunnableParallel<agent_scratchpad> > 5:chain:RunnableLambda] Entering Chain run with input:\n",
            "\u001b[0m{\n",
            "  \"input\": \"\"\n",
            "}\n",
            "\u001b[36;1m\u001b[1;3m[chain/end]\u001b[0m \u001b[1m[1:chain:AgentExecutor > 2:chain:RunnableSequence > 3:chain:RunnableAssign<agent_scratchpad> > 4:chain:RunnableParallel<agent_scratchpad> > 5:chain:RunnableLambda] [4ms] Exiting Chain run with output:\n",
            "\u001b[0m{\n",
            "  \"output\": []\n",
            "}\n",
            "\u001b[36;1m\u001b[1;3m[chain/end]\u001b[0m \u001b[1m[1:chain:AgentExecutor > 2:chain:RunnableSequence > 3:chain:RunnableAssign<agent_scratchpad> > 4:chain:RunnableParallel<agent_scratchpad>] [9ms] Exiting Chain run with output:\n",
            "\u001b[0m{\n",
            "  \"agent_scratchpad\": []\n",
            "}\n",
            "\u001b[36;1m\u001b[1;3m[chain/end]\u001b[0m \u001b[1m[1:chain:AgentExecutor > 2:chain:RunnableSequence > 3:chain:RunnableAssign<agent_scratchpad>] [15ms] Exiting Chain run with output:\n",
            "\u001b[0m{\n",
            "  \"input\": \"서울과 부산의 날씨를 알려줘\",\n",
            "  \"intermediate_steps\": [],\n",
            "  \"agent_scratchpad\": []\n",
            "}\n",
            "\u001b[32;1m\u001b[1;3m[chain/start]\u001b[0m \u001b[1m[1:chain:AgentExecutor > 2:chain:RunnableSequence > 6:prompt:ChatPromptTemplate] Entering Prompt run with input:\n",
            "\u001b[0m{\n",
            "  \"input\": \"서울과 부산의 날씨를 알려줘\",\n",
            "  \"intermediate_steps\": [],\n",
            "  \"agent_scratchpad\": []\n",
            "}\n",
            "\u001b[36;1m\u001b[1;3m[chain/end]\u001b[0m \u001b[1m[1:chain:AgentExecutor > 2:chain:RunnableSequence > 6:prompt:ChatPromptTemplate] [1ms] Exiting Prompt run with output:\n",
            "\u001b[0m[outputs]\n",
            "\u001b[32;1m\u001b[1;3m[llm/start]\u001b[0m \u001b[1m[1:chain:AgentExecutor > 2:chain:RunnableSequence > 7:llm:ChatOpenAI] Entering LLM run with input:\n",
            "\u001b[0m{\n",
            "  \"prompts\": [\n",
            "    \"System: You are a helpful assistant\\nHuman: 서울과 부산의 날씨를 알려줘\"\n",
            "  ]\n",
            "}\n",
            "\u001b[36;1m\u001b[1;3m[llm/end]\u001b[0m \u001b[1m[1:chain:AgentExecutor > 2:chain:RunnableSequence > 7:llm:ChatOpenAI] [1.68s] Exiting LLM run with output:\n",
            "\u001b[0m{\n",
            "  \"generations\": [\n",
            "    [\n",
            "      {\n",
            "        \"text\": \"\",\n",
            "        \"generation_info\": {\n",
            "          \"finish_reason\": \"function_call\"\n",
            "        },\n",
            "        \"type\": \"ChatGenerationChunk\",\n",
            "        \"message\": {\n",
            "          \"lc\": 1,\n",
            "          \"type\": \"constructor\",\n",
            "          \"id\": [\n",
            "            \"langchain\",\n",
            "            \"schema\",\n",
            "            \"messages\",\n",
            "            \"AIMessageChunk\"\n",
            "          ],\n",
            "          \"kwargs\": {\n",
            "            \"content\": \"\",\n",
            "            \"example\": false,\n",
            "            \"additional_kwargs\": {\n",
            "              \"function_call\": {\n",
            "                \"arguments\": \"{\\\"query\\\":\\\"서울 날씨\\\"}\",\n",
            "                \"name\": \"duckduckgo_search\"\n",
            "              }\n",
            "            },\n",
            "            \"response_metadata\": {\n",
            "              \"finish_reason\": \"function_call\"\n",
            "            },\n",
            "            \"id\": \"run-ffb80475-4011-474a-85c0-20da12f97c7b\"\n",
            "          }\n",
            "        }\n",
            "      }\n",
            "    ]\n",
            "  ],\n",
            "  \"llm_output\": null,\n",
            "  \"run\": null\n",
            "}\n",
            "\u001b[32;1m\u001b[1;3m[chain/start]\u001b[0m \u001b[1m[1:chain:AgentExecutor > 2:chain:RunnableSequence > 8:parser:OpenAIFunctionsAgentOutputParser] Entering Parser run with input:\n",
            "\u001b[0m[inputs]\n",
            "\u001b[36;1m\u001b[1;3m[chain/end]\u001b[0m \u001b[1m[1:chain:AgentExecutor > 2:chain:RunnableSequence > 8:parser:OpenAIFunctionsAgentOutputParser] [1ms] Exiting Parser run with output:\n",
            "\u001b[0m[outputs]\n",
            "\u001b[36;1m\u001b[1;3m[chain/end]\u001b[0m \u001b[1m[1:chain:AgentExecutor > 2:chain:RunnableSequence] [1.71s] Exiting Chain run with output:\n",
            "\u001b[0m[outputs]\n",
            "\u001b[32;1m\u001b[1;3m[tool/start]\u001b[0m \u001b[1m[1:chain:AgentExecutor > 9:tool:duckduckgo_search] Entering Tool run with input:\n",
            "\u001b[0m\"{'query': '서울 날씨'}\"\n",
            "\u001b[36;1m\u001b[1;3m[tool/end]\u001b[0m \u001b[1m[1:chain:AgentExecutor > 9:tool:duckduckgo_search] [987ms] Exiting Tool run with output:\n",
            "\u001b[0m\"(서울=연합뉴스) 계승현 기자 = 토요일인 6일 낮 기온이 남부지방을 중심으로 20도 이상으로 올라 포근하겠다. ... 다음은 6일 지역별 날씨 전망. [오전, 오후](최저∼최고기온) <오전, 오후 강수 확률> 부분적으로 흐린 날씨 바람: 빛이 공기 , 북동 , 속도 1 초당 미터 돌풍: 3 초당 미터 상대 습도: 85% 흐림: 55% 기압: 1009 고전력 증폭기 자외선 지수: 0,2 (낮음) 강일동 +9 °C. 비산동 +8 °C. 안양시 +8 °C. 서울특별시의 날씨 서울특별시의 기온 서울특별시의 시간별 날씨 예보 오늘 서울특별시 날씨 서울특별시에서 3 일간 날씨 서울특별시의 날씨 5 일 일주일 동안 서울특별시의 날씨 일출과 일몰 서울특별시 서울 ... 사전투표 첫날이자 식목일인 오늘 (5일) 오후가 되면서 하늘 표정 차차 맑게 드러날 텐데요. 크게 벌어지는 일교차는 유의해 주셔야겠습니다. 오늘 ... 날씨 목록. 날씨. 숨은 단층 조사했더니...서울 북쪽 '미소지진' 다수 발생. 2024.04.04 19:19. 공유하기. 재생. [날씨] 내일 점차 맑아지며 낮 동안 포근 ...\"\n",
            "\u001b[32;1m\u001b[1;3m[chain/start]\u001b[0m \u001b[1m[1:chain:AgentExecutor > 10:chain:RunnableSequence] Entering Chain run with input:\n",
            "\u001b[0m{\n",
            "  \"input\": \"\"\n",
            "}\n",
            "\u001b[32;1m\u001b[1;3m[chain/start]\u001b[0m \u001b[1m[1:chain:AgentExecutor > 10:chain:RunnableSequence > 11:chain:RunnableAssign<agent_scratchpad>] Entering Chain run with input:\n",
            "\u001b[0m{\n",
            "  \"input\": \"\"\n",
            "}\n",
            "\u001b[32;1m\u001b[1;3m[chain/start]\u001b[0m \u001b[1m[1:chain:AgentExecutor > 10:chain:RunnableSequence > 11:chain:RunnableAssign<agent_scratchpad> > 12:chain:RunnableParallel<agent_scratchpad>] Entering Chain run with input:\n",
            "\u001b[0m{\n",
            "  \"input\": \"\"\n",
            "}\n",
            "\u001b[32;1m\u001b[1;3m[chain/start]\u001b[0m \u001b[1m[1:chain:AgentExecutor > 10:chain:RunnableSequence > 11:chain:RunnableAssign<agent_scratchpad> > 12:chain:RunnableParallel<agent_scratchpad> > 13:chain:RunnableLambda] Entering Chain run with input:\n",
            "\u001b[0m{\n",
            "  \"input\": \"\"\n",
            "}\n",
            "\u001b[36;1m\u001b[1;3m[chain/end]\u001b[0m \u001b[1m[1:chain:AgentExecutor > 10:chain:RunnableSequence > 11:chain:RunnableAssign<agent_scratchpad> > 12:chain:RunnableParallel<agent_scratchpad> > 13:chain:RunnableLambda] [2ms] Exiting Chain run with output:\n",
            "\u001b[0m[outputs]\n",
            "\u001b[36;1m\u001b[1;3m[chain/end]\u001b[0m \u001b[1m[1:chain:AgentExecutor > 10:chain:RunnableSequence > 11:chain:RunnableAssign<agent_scratchpad> > 12:chain:RunnableParallel<agent_scratchpad>] [5ms] Exiting Chain run with output:\n",
            "\u001b[0m[outputs]\n",
            "\u001b[36;1m\u001b[1;3m[chain/end]\u001b[0m \u001b[1m[1:chain:AgentExecutor > 10:chain:RunnableSequence > 11:chain:RunnableAssign<agent_scratchpad>] [10ms] Exiting Chain run with output:\n",
            "\u001b[0m[outputs]\n",
            "\u001b[32;1m\u001b[1;3m[chain/start]\u001b[0m \u001b[1m[1:chain:AgentExecutor > 10:chain:RunnableSequence > 14:prompt:ChatPromptTemplate] Entering Prompt run with input:\n",
            "\u001b[0m[inputs]\n",
            "\u001b[36;1m\u001b[1;3m[chain/end]\u001b[0m \u001b[1m[1:chain:AgentExecutor > 10:chain:RunnableSequence > 14:prompt:ChatPromptTemplate] [1ms] Exiting Prompt run with output:\n",
            "\u001b[0m[outputs]\n",
            "\u001b[32;1m\u001b[1;3m[llm/start]\u001b[0m \u001b[1m[1:chain:AgentExecutor > 10:chain:RunnableSequence > 15:llm:ChatOpenAI] Entering LLM run with input:\n",
            "\u001b[0m{\n",
            "  \"prompts\": [\n",
            "    \"System: You are a helpful assistant\\nHuman: 서울과 부산의 날씨를 알려줘\\nAI: {'arguments': '{\\\"query\\\":\\\"서울 날씨\\\"}', 'name': 'duckduckgo_search'}\\nFunction: (서울=연합뉴스) 계승현 기자 = 토요일인 6일 낮 기온이 남부지방을 중심으로 20도 이상으로 올라 포근하겠다. ... 다음은 6일 지역별 날씨 전망. [오전, 오후](최저∼최고기온) <오전, 오후 강수 확률> 부분적으로 흐린 날씨 바람: 빛이 공기 , 북동 , 속도 1 초당 미터 돌풍: 3 초당 미터 상대 습도: 85% 흐림: 55% 기압: 1009 고전력 증폭기 자외선 지수: 0,2 (낮음) 강일동 +9 °C. 비산동 +8 °C. 안양시 +8 °C. 서울특별시의 날씨 서울특별시의 기온 서울특별시의 시간별 날씨 예보 오늘 서울특별시 날씨 서울특별시에서 3 일간 날씨 서울특별시의 날씨 5 일 일주일 동안 서울특별시의 날씨 일출과 일몰 서울특별시 서울 ... 사전투표 첫날이자 식목일인 오늘 (5일) 오후가 되면서 하늘 표정 차차 맑게 드러날 텐데요. 크게 벌어지는 일교차는 유의해 주셔야겠습니다. 오늘 ... 날씨 목록. 날씨. 숨은 단층 조사했더니...서울 북쪽 '미소지진' 다수 발생. 2024.04.04 19:19. 공유하기. 재생. [날씨] 내일 점차 맑아지며 낮 동안 포근 ...\"\n",
            "  ]\n",
            "}\n",
            "\u001b[36;1m\u001b[1;3m[llm/end]\u001b[0m \u001b[1m[1:chain:AgentExecutor > 10:chain:RunnableSequence > 15:llm:ChatOpenAI] [3.67s] Exiting LLM run with output:\n",
            "\u001b[0m{\n",
            "  \"generations\": [\n",
            "    [\n",
            "      {\n",
            "        \"text\": \"\",\n",
            "        \"generation_info\": {\n",
            "          \"finish_reason\": \"function_call\"\n",
            "        },\n",
            "        \"type\": \"ChatGenerationChunk\",\n",
            "        \"message\": {\n",
            "          \"lc\": 1,\n",
            "          \"type\": \"constructor\",\n",
            "          \"id\": [\n",
            "            \"langchain\",\n",
            "            \"schema\",\n",
            "            \"messages\",\n",
            "            \"AIMessageChunk\"\n",
            "          ],\n",
            "          \"kwargs\": {\n",
            "            \"content\": \"\",\n",
            "            \"example\": false,\n",
            "            \"additional_kwargs\": {\n",
            "              \"function_call\": {\n",
            "                \"arguments\": \"{\\\"query\\\":\\\"부산 날씨\\\"}\",\n",
            "                \"name\": \"duckduckgo_search\"\n",
            "              }\n",
            "            },\n",
            "            \"response_metadata\": {\n",
            "              \"finish_reason\": \"function_call\"\n",
            "            },\n",
            "            \"id\": \"run-a2f5e6aa-435b-4a4f-b63a-bf18be2381d7\"\n",
            "          }\n",
            "        }\n",
            "      }\n",
            "    ]\n",
            "  ],\n",
            "  \"llm_output\": null,\n",
            "  \"run\": null\n",
            "}\n",
            "\u001b[32;1m\u001b[1;3m[chain/start]\u001b[0m \u001b[1m[1:chain:AgentExecutor > 10:chain:RunnableSequence > 16:parser:OpenAIFunctionsAgentOutputParser] Entering Parser run with input:\n",
            "\u001b[0m[inputs]\n",
            "\u001b[36;1m\u001b[1;3m[chain/end]\u001b[0m \u001b[1m[1:chain:AgentExecutor > 10:chain:RunnableSequence > 16:parser:OpenAIFunctionsAgentOutputParser] [1ms] Exiting Parser run with output:\n",
            "\u001b[0m[outputs]\n",
            "\u001b[36;1m\u001b[1;3m[chain/end]\u001b[0m \u001b[1m[1:chain:AgentExecutor > 10:chain:RunnableSequence] [3.69s] Exiting Chain run with output:\n",
            "\u001b[0m[outputs]\n",
            "\u001b[32;1m\u001b[1;3m[tool/start]\u001b[0m \u001b[1m[1:chain:AgentExecutor > 17:tool:duckduckgo_search] Entering Tool run with input:\n",
            "\u001b[0m\"{'query': '부산 날씨'}\"\n",
            "\u001b[36;1m\u001b[1;3m[tool/end]\u001b[0m \u001b[1m[1:chain:AgentExecutor > 17:tool:duckduckgo_search] [992ms] Exiting Tool run with output:\n",
            "\u001b[0m\"부산cc 날씨 컨트리클럽 주간일기예보를 알아보겠습니다. 현재 컨트리클럽 주변의 날씨 상황과 함께 실시간으로 반영되는 날씨 정보를 확인할 수 있으며, 주간 일별날씨예보와 비, 바람, 돌풍, 풍향, 눈 등의 세부적인 기상변화를 확인할 수 있습니다. 부산광역시 가야동 수영 동래 화명동 김해시 기장 김해시 일광 양산시 산본 장안 양산시 통신동 창원시 양산시 삼랑진 내광 온양읍 창원시 거제시 남창 삼광 마산시 온산읍 산양 신현 진동면 서상리 내소 진동리 밀양시 부산 진북면 격동 대전 울산광역시 산내면 ... 날씨 문자 및 기상 조건의 예측: 조금 비 바람: 산들 바람 , 북동 , 속도 2 초당 미터 돌풍: 8 초당 미터 상대 습도: 94% 흐림: 100% 기압: 973 고전력 증폭기 강수량: 0,2 밀리미터 가시성: 32% 부산 광역시 (Busan) ☀ 10일 기간 일기예보, 기상 정보, 웹카메라 화면, 일출 및 일몰, 지역의 풍속 및 강수량 Ventusky: 지도상 일기예보 소개 부산광역시 가야동 수영 동래 화명동 김해시 기장 김해시 일광 양산시 산본 장안 양산시 통신동 창원시 양산시 삼랑진 내광 온양읍 창원시 거제시 남창 삼광 마산시 온산읍 산양 신현 진동면 서상리 내소 진동리 밀양시 부산 진북면 격동 대전 울산광역시 산내면 ...\"\n",
            "\u001b[32;1m\u001b[1;3m[chain/start]\u001b[0m \u001b[1m[1:chain:AgentExecutor > 18:chain:RunnableSequence] Entering Chain run with input:\n",
            "\u001b[0m{\n",
            "  \"input\": \"\"\n",
            "}\n",
            "\u001b[32;1m\u001b[1;3m[chain/start]\u001b[0m \u001b[1m[1:chain:AgentExecutor > 18:chain:RunnableSequence > 19:chain:RunnableAssign<agent_scratchpad>] Entering Chain run with input:\n",
            "\u001b[0m{\n",
            "  \"input\": \"\"\n",
            "}\n",
            "\u001b[32;1m\u001b[1;3m[chain/start]\u001b[0m \u001b[1m[1:chain:AgentExecutor > 18:chain:RunnableSequence > 19:chain:RunnableAssign<agent_scratchpad> > 20:chain:RunnableParallel<agent_scratchpad>] Entering Chain run with input:\n",
            "\u001b[0m{\n",
            "  \"input\": \"\"\n",
            "}\n",
            "\u001b[32;1m\u001b[1;3m[chain/start]\u001b[0m \u001b[1m[1:chain:AgentExecutor > 18:chain:RunnableSequence > 19:chain:RunnableAssign<agent_scratchpad> > 20:chain:RunnableParallel<agent_scratchpad> > 21:chain:RunnableLambda] Entering Chain run with input:\n",
            "\u001b[0m{\n",
            "  \"input\": \"\"\n",
            "}\n",
            "\u001b[36;1m\u001b[1;3m[chain/end]\u001b[0m \u001b[1m[1:chain:AgentExecutor > 18:chain:RunnableSequence > 19:chain:RunnableAssign<agent_scratchpad> > 20:chain:RunnableParallel<agent_scratchpad> > 21:chain:RunnableLambda] [2ms] Exiting Chain run with output:\n",
            "\u001b[0m[outputs]\n",
            "\u001b[36;1m\u001b[1;3m[chain/end]\u001b[0m \u001b[1m[1:chain:AgentExecutor > 18:chain:RunnableSequence > 19:chain:RunnableAssign<agent_scratchpad> > 20:chain:RunnableParallel<agent_scratchpad>] [10ms] Exiting Chain run with output:\n",
            "\u001b[0m[outputs]\n",
            "\u001b[36;1m\u001b[1;3m[chain/end]\u001b[0m \u001b[1m[1:chain:AgentExecutor > 18:chain:RunnableSequence > 19:chain:RunnableAssign<agent_scratchpad>] [16ms] Exiting Chain run with output:\n",
            "\u001b[0m[outputs]\n",
            "\u001b[32;1m\u001b[1;3m[chain/start]\u001b[0m \u001b[1m[1:chain:AgentExecutor > 18:chain:RunnableSequence > 22:prompt:ChatPromptTemplate] Entering Prompt run with input:\n",
            "\u001b[0m[inputs]\n",
            "\u001b[36;1m\u001b[1;3m[chain/end]\u001b[0m \u001b[1m[1:chain:AgentExecutor > 18:chain:RunnableSequence > 22:prompt:ChatPromptTemplate] [1ms] Exiting Prompt run with output:\n",
            "\u001b[0m[outputs]\n",
            "\u001b[32;1m\u001b[1;3m[llm/start]\u001b[0m \u001b[1m[1:chain:AgentExecutor > 18:chain:RunnableSequence > 23:llm:ChatOpenAI] Entering LLM run with input:\n",
            "\u001b[0m{\n",
            "  \"prompts\": [\n",
            "    \"System: You are a helpful assistant\\nHuman: 서울과 부산의 날씨를 알려줘\\nAI: {'arguments': '{\\\"query\\\":\\\"서울 날씨\\\"}', 'name': 'duckduckgo_search'}\\nFunction: (서울=연합뉴스) 계승현 기자 = 토요일인 6일 낮 기온이 남부지방을 중심으로 20도 이상으로 올라 포근하겠다. ... 다음은 6일 지역별 날씨 전망. [오전, 오후](최저∼최고기온) <오전, 오후 강수 확률> 부분적으로 흐린 날씨 바람: 빛이 공기 , 북동 , 속도 1 초당 미터 돌풍: 3 초당 미터 상대 습도: 85% 흐림: 55% 기압: 1009 고전력 증폭기 자외선 지수: 0,2 (낮음) 강일동 +9 °C. 비산동 +8 °C. 안양시 +8 °C. 서울특별시의 날씨 서울특별시의 기온 서울특별시의 시간별 날씨 예보 오늘 서울특별시 날씨 서울특별시에서 3 일간 날씨 서울특별시의 날씨 5 일 일주일 동안 서울특별시의 날씨 일출과 일몰 서울특별시 서울 ... 사전투표 첫날이자 식목일인 오늘 (5일) 오후가 되면서 하늘 표정 차차 맑게 드러날 텐데요. 크게 벌어지는 일교차는 유의해 주셔야겠습니다. 오늘 ... 날씨 목록. 날씨. 숨은 단층 조사했더니...서울 북쪽 '미소지진' 다수 발생. 2024.04.04 19:19. 공유하기. 재생. [날씨] 내일 점차 맑아지며 낮 동안 포근 ...\\nAI: {'arguments': '{\\\"query\\\":\\\"부산 날씨\\\"}', 'name': 'duckduckgo_search'}\\nFunction: 부산cc 날씨 컨트리클럽 주간일기예보를 알아보겠습니다. 현재 컨트리클럽 주변의 날씨 상황과 함께 실시간으로 반영되는 날씨 정보를 확인할 수 있으며, 주간 일별날씨예보와 비, 바람, 돌풍, 풍향, 눈 등의 세부적인 기상변화를 확인할 수 있습니다. 부산광역시 가야동 수영 동래 화명동 김해시 기장 김해시 일광 양산시 산본 장안 양산시 통신동 창원시 양산시 삼랑진 내광 온양읍 창원시 거제시 남창 삼광 마산시 온산읍 산양 신현 진동면 서상리 내소 진동리 밀양시 부산 진북면 격동 대전 울산광역시 산내면 ... 날씨 문자 및 기상 조건의 예측: 조금 비 바람: 산들 바람 , 북동 , 속도 2 초당 미터 돌풍: 8 초당 미터 상대 습도: 94% 흐림: 100% 기압: 973 고전력 증폭기 강수량: 0,2 밀리미터 가시성: 32% 부산 광역시 (Busan) ☀ 10일 기간 일기예보, 기상 정보, 웹카메라 화면, 일출 및 일몰, 지역의 풍속 및 강수량 Ventusky: 지도상 일기예보 소개 부산광역시 가야동 수영 동래 화명동 김해시 기장 김해시 일광 양산시 산본 장안 양산시 통신동 창원시 양산시 삼랑진 내광 온양읍 창원시 거제시 남창 삼광 마산시 온산읍 산양 신현 진동면 서상리 내소 진동리 밀양시 부산 진북면 격동 대전 울산광역시 산내면 ...\"\n",
            "  ]\n",
            "}\n",
            "\u001b[36;1m\u001b[1;3m[llm/end]\u001b[0m \u001b[1m[1:chain:AgentExecutor > 18:chain:RunnableSequence > 23:llm:ChatOpenAI] [11.07s] Exiting LLM run with output:\n",
            "\u001b[0m{\n",
            "  \"generations\": [\n",
            "    [\n",
            "      {\n",
            "        \"text\": \"서울의 날씨는 부분적으로 흐린 상태이며, 바람은 북동풍으로 초당 1미터의 속도로 불고 있습니다. 상대 습도는 85%이며, 기압은 1009hPa입니다. 자외선 지수는 낮음(0.2)입니다.\\n\\n부산의 날씨는 조금 비가 오고 있으며, 바람은 북동풍으로 초당 2미터의 속도로 불고 있습니다. 상대 습도는 94%이며, 기압은 973hPa입니다. 강수량은 0.2mm이고, 가시성은 32%입니다.\\n\\n이 정보는 실시간 날씨 상황에 따라 변할 수 있으니, 외출 전 최신 날씨 정보를 확인하시기 바랍니다.\",\n",
            "        \"generation_info\": {\n",
            "          \"finish_reason\": \"stop\"\n",
            "        },\n",
            "        \"type\": \"ChatGenerationChunk\",\n",
            "        \"message\": {\n",
            "          \"lc\": 1,\n",
            "          \"type\": \"constructor\",\n",
            "          \"id\": [\n",
            "            \"langchain\",\n",
            "            \"schema\",\n",
            "            \"messages\",\n",
            "            \"AIMessageChunk\"\n",
            "          ],\n",
            "          \"kwargs\": {\n",
            "            \"content\": \"서울의 날씨는 부분적으로 흐린 상태이며, 바람은 북동풍으로 초당 1미터의 속도로 불고 있습니다. 상대 습도는 85%이며, 기압은 1009hPa입니다. 자외선 지수는 낮음(0.2)입니다.\\n\\n부산의 날씨는 조금 비가 오고 있으며, 바람은 북동풍으로 초당 2미터의 속도로 불고 있습니다. 상대 습도는 94%이며, 기압은 973hPa입니다. 강수량은 0.2mm이고, 가시성은 32%입니다.\\n\\n이 정보는 실시간 날씨 상황에 따라 변할 수 있으니, 외출 전 최신 날씨 정보를 확인하시기 바랍니다.\",\n",
            "            \"example\": false,\n",
            "            \"additional_kwargs\": {},\n",
            "            \"response_metadata\": {\n",
            "              \"finish_reason\": \"stop\"\n",
            "            },\n",
            "            \"id\": \"run-5a02eab1-da93-43ed-95c2-66f6f27864cc\"\n",
            "          }\n",
            "        }\n",
            "      }\n",
            "    ]\n",
            "  ],\n",
            "  \"llm_output\": null,\n",
            "  \"run\": null\n",
            "}\n",
            "\u001b[32;1m\u001b[1;3m[chain/start]\u001b[0m \u001b[1m[1:chain:AgentExecutor > 18:chain:RunnableSequence > 24:parser:OpenAIFunctionsAgentOutputParser] Entering Parser run with input:\n",
            "\u001b[0m[inputs]\n",
            "\u001b[36;1m\u001b[1;3m[chain/end]\u001b[0m \u001b[1m[1:chain:AgentExecutor > 18:chain:RunnableSequence > 24:parser:OpenAIFunctionsAgentOutputParser] [1ms] Exiting Parser run with output:\n",
            "\u001b[0m[outputs]\n",
            "\u001b[36;1m\u001b[1;3m[chain/end]\u001b[0m \u001b[1m[1:chain:AgentExecutor > 18:chain:RunnableSequence] [11.10s] Exiting Chain run with output:\n",
            "\u001b[0m[outputs]\n",
            "\u001b[36;1m\u001b[1;3m[chain/end]\u001b[0m \u001b[1m[1:chain:AgentExecutor] [18.53s] Exiting Chain run with output:\n",
            "\u001b[0m{\n",
            "  \"output\": \"서울의 날씨는 부분적으로 흐린 상태이며, 바람은 북동풍으로 초당 1미터의 속도로 불고 있습니다. 상대 습도는 85%이며, 기압은 1009hPa입니다. 자외선 지수는 낮음(0.2)입니다.\\n\\n부산의 날씨는 조금 비가 오고 있으며, 바람은 북동풍으로 초당 2미터의 속도로 불고 있습니다. 상대 습도는 94%이며, 기압은 973hPa입니다. 강수량은 0.2mm이고, 가시성은 32%입니다.\\n\\n이 정보는 실시간 날씨 상황에 따라 변할 수 있으니, 외출 전 최신 날씨 정보를 확인하시기 바랍니다.\"\n",
            "}\n"
          ]
        }
      ],
      "source": [
        "from langchain.agents import load_tools\n",
        "from langchain.agents import AgentExecutor, create_openai_functions_agent\n",
        "from langchain_openai import ChatOpenAI\n",
        "\n",
        "llm = ChatOpenAI(model=\"gpt-4-turbo-preview\", temperature=0)\n",
        "tools = load_tools([\"ddg-search\"])\n",
        "prompt = hub.pull(\"hwchase17/openai-functions-agent\")\n",
        "\n",
        "agent = create_openai_functions_agent(llm, tools, prompt)\n",
        "agent_executor = AgentExecutor(agent=agent, tools=tools, verbose=True)\n",
        "\n",
        "\n",
        "result = agent_executor.invoke({\"input\": \"서울과 부산의 날씨를 알려줘\"})"
      ]
    },
    {
      "cell_type": "code",
      "source": [
        "print(result[\"output\"])"
      ],
      "metadata": {
        "colab": {
          "base_uri": "https://localhost:8080/"
        },
        "id": "VTGF_nWgnfaZ",
        "outputId": "087e741b-3464-47bd-aec7-e0f550160126"
      },
      "execution_count": 15,
      "outputs": [
        {
          "output_type": "stream",
          "name": "stdout",
          "text": [
            "서울의 날씨는 부분적으로 흐린 상태이며, 바람은 북동풍으로 초당 1미터의 속도로 불고 있습니다. 상대 습도는 85%이며, 기압은 1009hPa입니다. 자외선 지수는 낮음(0.2)입니다.\n",
            "\n",
            "부산의 날씨는 조금 비가 오고 있으며, 바람은 북동풍으로 초당 2미터의 속도로 불고 있습니다. 상대 습도는 94%이며, 기압은 973hPa입니다. 강수량은 0.2mm이고, 가시성은 32%입니다.\n",
            "\n",
            "이 정보는 실시간 날씨 상황에 따라 변할 수 있으니, 외출 전 최신 날씨 정보를 확인하시기 바랍니다.\n"
          ]
        }
      ]
    },
    {
      "cell_type": "markdown",
      "source": [
        "### OpenAI Tools Agent\n",
        "\n",
        "OpenAI API는 functions를 더 이상 사용하지 않고 tools를 사용합니다. tools API를 사용하면 모델에서 여러 함수를 한 번에 호출하도록 요청할 수 있으므로 일부 아키텍처에서 응답 시간을 줄일 수 있습니다. OpenAI 모델에는 tools agent를 사용하는 것이 좋습니다."
      ],
      "metadata": {
        "id": "mk4rfrr-EkU2"
      }
    },
    {
      "cell_type": "code",
      "source": [
        "from langchain.agents import load_tools\n",
        "from langchain.agents import AgentExecutor, create_openai_tools_agent\n",
        "from langchain_openai import ChatOpenAI\n",
        "\n",
        "llm = ChatOpenAI(model=\"gpt-3.5-turbo\", temperature=0)\n",
        "tools = load_tools([\"ddg-search\"])\n",
        "prompt = hub.pull(\"hwchase17/openai-tools-agent\")\n",
        "\n",
        "agent = create_openai_tools_agent(llm, tools, prompt)\n",
        "agent_executor = AgentExecutor(agent=agent, tools=tools, verbose=True)\n",
        "\n",
        "\n",
        "result = agent_executor.invoke({\"input\": \"서울과 부산의 날씨를 알려줘\"})"
      ],
      "metadata": {
        "colab": {
          "base_uri": "https://localhost:8080/"
        },
        "id": "1thfrc_jD974",
        "outputId": "35c2ed5c-dd6c-4b59-d48f-672c35087419"
      },
      "execution_count": 16,
      "outputs": [
        {
          "output_type": "stream",
          "name": "stdout",
          "text": [
            "\u001b[32;1m\u001b[1;3m[chain/start]\u001b[0m \u001b[1m[1:chain:AgentExecutor] Entering Chain run with input:\n",
            "\u001b[0m{\n",
            "  \"input\": \"서울과 부산의 날씨를 알려줘\"\n",
            "}\n",
            "\u001b[32;1m\u001b[1;3m[chain/start]\u001b[0m \u001b[1m[1:chain:AgentExecutor > 2:chain:RunnableSequence] Entering Chain run with input:\n",
            "\u001b[0m{\n",
            "  \"input\": \"\"\n",
            "}\n",
            "\u001b[32;1m\u001b[1;3m[chain/start]\u001b[0m \u001b[1m[1:chain:AgentExecutor > 2:chain:RunnableSequence > 3:chain:RunnableAssign<agent_scratchpad>] Entering Chain run with input:\n",
            "\u001b[0m{\n",
            "  \"input\": \"\"\n",
            "}\n",
            "\u001b[32;1m\u001b[1;3m[chain/start]\u001b[0m \u001b[1m[1:chain:AgentExecutor > 2:chain:RunnableSequence > 3:chain:RunnableAssign<agent_scratchpad> > 4:chain:RunnableParallel<agent_scratchpad>] Entering Chain run with input:\n",
            "\u001b[0m{\n",
            "  \"input\": \"\"\n",
            "}\n",
            "\u001b[32;1m\u001b[1;3m[chain/start]\u001b[0m \u001b[1m[1:chain:AgentExecutor > 2:chain:RunnableSequence > 3:chain:RunnableAssign<agent_scratchpad> > 4:chain:RunnableParallel<agent_scratchpad> > 5:chain:RunnableLambda] Entering Chain run with input:\n",
            "\u001b[0m{\n",
            "  \"input\": \"\"\n",
            "}\n",
            "\u001b[36;1m\u001b[1;3m[chain/end]\u001b[0m \u001b[1m[1:chain:AgentExecutor > 2:chain:RunnableSequence > 3:chain:RunnableAssign<agent_scratchpad> > 4:chain:RunnableParallel<agent_scratchpad> > 5:chain:RunnableLambda] [2ms] Exiting Chain run with output:\n",
            "\u001b[0m{\n",
            "  \"output\": []\n",
            "}\n",
            "\u001b[36;1m\u001b[1;3m[chain/end]\u001b[0m \u001b[1m[1:chain:AgentExecutor > 2:chain:RunnableSequence > 3:chain:RunnableAssign<agent_scratchpad> > 4:chain:RunnableParallel<agent_scratchpad>] [5ms] Exiting Chain run with output:\n",
            "\u001b[0m{\n",
            "  \"agent_scratchpad\": []\n",
            "}\n",
            "\u001b[36;1m\u001b[1;3m[chain/end]\u001b[0m \u001b[1m[1:chain:AgentExecutor > 2:chain:RunnableSequence > 3:chain:RunnableAssign<agent_scratchpad>] [10ms] Exiting Chain run with output:\n",
            "\u001b[0m{\n",
            "  \"input\": \"서울과 부산의 날씨를 알려줘\",\n",
            "  \"intermediate_steps\": [],\n",
            "  \"agent_scratchpad\": []\n",
            "}\n",
            "\u001b[32;1m\u001b[1;3m[chain/start]\u001b[0m \u001b[1m[1:chain:AgentExecutor > 2:chain:RunnableSequence > 6:prompt:ChatPromptTemplate] Entering Prompt run with input:\n",
            "\u001b[0m{\n",
            "  \"input\": \"서울과 부산의 날씨를 알려줘\",\n",
            "  \"intermediate_steps\": [],\n",
            "  \"agent_scratchpad\": []\n",
            "}\n",
            "\u001b[36;1m\u001b[1;3m[chain/end]\u001b[0m \u001b[1m[1:chain:AgentExecutor > 2:chain:RunnableSequence > 6:prompt:ChatPromptTemplate] [1ms] Exiting Prompt run with output:\n",
            "\u001b[0m[outputs]\n",
            "\u001b[32;1m\u001b[1;3m[llm/start]\u001b[0m \u001b[1m[1:chain:AgentExecutor > 2:chain:RunnableSequence > 7:llm:ChatOpenAI] Entering LLM run with input:\n",
            "\u001b[0m{\n",
            "  \"prompts\": [\n",
            "    \"System: You are a helpful assistant\\nHuman: 서울과 부산의 날씨를 알려줘\"\n",
            "  ]\n",
            "}\n",
            "\u001b[36;1m\u001b[1;3m[llm/end]\u001b[0m \u001b[1m[1:chain:AgentExecutor > 2:chain:RunnableSequence > 7:llm:ChatOpenAI] [2.26s] Exiting LLM run with output:\n",
            "\u001b[0m{\n",
            "  \"generations\": [\n",
            "    [\n",
            "      {\n",
            "        \"text\": \"\",\n",
            "        \"generation_info\": {\n",
            "          \"finish_reason\": \"tool_calls\"\n",
            "        },\n",
            "        \"type\": \"ChatGenerationChunk\",\n",
            "        \"message\": {\n",
            "          \"lc\": 1,\n",
            "          \"type\": \"constructor\",\n",
            "          \"id\": [\n",
            "            \"langchain\",\n",
            "            \"schema\",\n",
            "            \"messages\",\n",
            "            \"AIMessageChunk\"\n",
            "          ],\n",
            "          \"kwargs\": {\n",
            "            \"content\": \"\",\n",
            "            \"example\": false,\n",
            "            \"additional_kwargs\": {\n",
            "              \"tool_calls\": [\n",
            "                {\n",
            "                  \"index\": 0,\n",
            "                  \"id\": \"call_4jZgH3iHc5gz8pNNEkUneCkA\",\n",
            "                  \"function\": {\n",
            "                    \"arguments\": \"{\\\"query\\\": \\\"서울 날씨\\\"}\",\n",
            "                    \"name\": \"duckduckgo_search\"\n",
            "                  },\n",
            "                  \"type\": \"function\"\n",
            "                },\n",
            "                {\n",
            "                  \"index\": 1,\n",
            "                  \"id\": \"call_t5EsuQwyYNJNCZz1UOFSdsqN\",\n",
            "                  \"function\": {\n",
            "                    \"arguments\": \"{\\\"query\\\": \\\"부산 날씨\\\"}\",\n",
            "                    \"name\": \"duckduckgo_search\"\n",
            "                  },\n",
            "                  \"type\": \"function\"\n",
            "                }\n",
            "              ]\n",
            "            },\n",
            "            \"response_metadata\": {\n",
            "              \"finish_reason\": \"tool_calls\"\n",
            "            },\n",
            "            \"id\": \"run-cb2f93a9-a21b-4d55-bca2-8cb964ae1d3a\"\n",
            "          }\n",
            "        }\n",
            "      }\n",
            "    ]\n",
            "  ],\n",
            "  \"llm_output\": null,\n",
            "  \"run\": null\n",
            "}\n",
            "\u001b[32;1m\u001b[1;3m[chain/start]\u001b[0m \u001b[1m[1:chain:AgentExecutor > 2:chain:RunnableSequence > 8:parser:OpenAIToolsAgentOutputParser] Entering Parser run with input:\n",
            "\u001b[0m[inputs]\n",
            "\u001b[36;1m\u001b[1;3m[chain/end]\u001b[0m \u001b[1m[1:chain:AgentExecutor > 2:chain:RunnableSequence > 8:parser:OpenAIToolsAgentOutputParser] [1ms] Exiting Parser run with output:\n",
            "\u001b[0m[outputs]\n",
            "\u001b[36;1m\u001b[1;3m[chain/end]\u001b[0m \u001b[1m[1:chain:AgentExecutor > 2:chain:RunnableSequence] [2.28s] Exiting Chain run with output:\n",
            "\u001b[0m[outputs]\n",
            "\u001b[32;1m\u001b[1;3m[tool/start]\u001b[0m \u001b[1m[1:chain:AgentExecutor > 9:tool:duckduckgo_search] Entering Tool run with input:\n",
            "\u001b[0m\"{'query': '서울 날씨'}\"\n",
            "\u001b[36;1m\u001b[1;3m[tool/end]\u001b[0m \u001b[1m[1:chain:AgentExecutor > 9:tool:duckduckgo_search] [964ms] Exiting Tool run with output:\n",
            "\u001b[0m\"부분적으로 흐린 날씨 바람: 빛이 공기 , 북동 , 속도 1 초당 미터 돌풍: 3 초당 미터 상대 습도: 85% 흐림: 55% 기압: 1009 고전력 증폭기 자외선 지수: 0,2 (낮음) (서울=연합뉴스) 계승현 기자 = 토요일인 6일 낮 기온이 남부지방을 중심으로 20도 이상으로 올라 포근하겠다. ... 다음은 6일 지역별 날씨 전망. [오전, 오후](최저∼최고기온) <오전, 오후 강수 확률> 강일동 +9 °C. 비산동 +8 °C. 안양시 +8 °C. 서울특별시의 날씨 서울특별시의 기온 서울특별시의 시간별 날씨 예보 오늘 서울특별시 날씨 서울특별시에서 3 일간 날씨 서울특별시의 날씨 5 일 일주일 동안 서울특별시의 날씨 일출과 일몰 서울특별시 서울 ... 날씨 목록. 날씨. 숨은 단층 조사했더니...서울 북쪽 '미소지진' 다수 발생. 2024.04.04 19:19. 공유하기. 재생. [날씨] 내일 점차 맑아지며 낮 동안 포근 ... 온통 눈 세상 대관령. (평창=연합뉴스) 유형재 기자 = 전날 내린 폭설로 설국이 된 강원 평창군 대관령 일원에 13일 관광객들이 찾아와 겨울 낭만을 만끽하고 있다. 2023.12.13 yoo21@yna.co.kr. (서울=연합뉴스) 이미령 기자 = 토요일인 16일 기온이 뚝 떨어져 춥고 서쪽 ...\"\n",
            "\u001b[32;1m\u001b[1;3m[tool/start]\u001b[0m \u001b[1m[1:chain:AgentExecutor > 10:tool:duckduckgo_search] Entering Tool run with input:\n",
            "\u001b[0m\"{'query': '부산 날씨'}\"\n",
            "\u001b[36;1m\u001b[1;3m[tool/end]\u001b[0m \u001b[1m[1:chain:AgentExecutor > 10:tool:duckduckgo_search] [988ms] Exiting Tool run with output:\n",
            "\u001b[0m\"부산cc 날씨 컨트리클럽 주간일기예보를 알아보겠습니다. 현재 컨트리클럽 주변의 날씨 상황과 함께 실시간으로 반영되는 날씨 정보를 확인할 수 있으며, 주간 일별날씨예보와 비, 바람, 돌풍, 풍향, 눈 등의 세부적인 기상변화를 확인할 수 있습니다. 부산광역시 가야동 수영 동래 화명동 김해시 기장 김해시 일광 양산시 산본 장안 양산시 통신동 창원시 양산시 삼랑진 내광 온양읍 창원시 거제시 남창 삼광 마산시 온산읍 산양 신현 진동면 서상리 내소 진동리 밀양시 부산 진북면 격동 대전 울산광역시 산내면 ... 날씨 문자 및 기상 조건의 예측: 조금 비 바람: 산들 바람 , 북동 , 속도 2 초당 미터 돌풍: 8 초당 미터 상대 습도: 94% 흐림: 100% 기압: 973 고전력 증폭기 강수량: 0,2 밀리미터 가시성: 32% 부산 광역시 (Busan) ☀ 10일 기간 일기예보, 기상 정보, 웹카메라 화면, 일출 및 일몰, 지역의 풍속 및 강수량 Ventusky: 지도상 일기예보 소개 0에서 2까지의 uv 지수는 평균적인 사람의 태양 광선으로부터의 위험이 낮음을 의미합니다. 밝은 날에는 선글라스를 착용하십시오.\"\n",
            "\u001b[32;1m\u001b[1;3m[chain/start]\u001b[0m \u001b[1m[1:chain:AgentExecutor > 11:chain:RunnableSequence] Entering Chain run with input:\n",
            "\u001b[0m{\n",
            "  \"input\": \"\"\n",
            "}\n",
            "\u001b[32;1m\u001b[1;3m[chain/start]\u001b[0m \u001b[1m[1:chain:AgentExecutor > 11:chain:RunnableSequence > 12:chain:RunnableAssign<agent_scratchpad>] Entering Chain run with input:\n",
            "\u001b[0m{\n",
            "  \"input\": \"\"\n",
            "}\n",
            "\u001b[32;1m\u001b[1;3m[chain/start]\u001b[0m \u001b[1m[1:chain:AgentExecutor > 11:chain:RunnableSequence > 12:chain:RunnableAssign<agent_scratchpad> > 13:chain:RunnableParallel<agent_scratchpad>] Entering Chain run with input:\n",
            "\u001b[0m{\n",
            "  \"input\": \"\"\n",
            "}\n",
            "\u001b[32;1m\u001b[1;3m[chain/start]\u001b[0m \u001b[1m[1:chain:AgentExecutor > 11:chain:RunnableSequence > 12:chain:RunnableAssign<agent_scratchpad> > 13:chain:RunnableParallel<agent_scratchpad> > 14:chain:RunnableLambda] Entering Chain run with input:\n",
            "\u001b[0m{\n",
            "  \"input\": \"\"\n",
            "}\n",
            "\u001b[36;1m\u001b[1;3m[chain/end]\u001b[0m \u001b[1m[1:chain:AgentExecutor > 11:chain:RunnableSequence > 12:chain:RunnableAssign<agent_scratchpad> > 13:chain:RunnableParallel<agent_scratchpad> > 14:chain:RunnableLambda] [2ms] Exiting Chain run with output:\n",
            "\u001b[0m[outputs]\n",
            "\u001b[36;1m\u001b[1;3m[chain/end]\u001b[0m \u001b[1m[1:chain:AgentExecutor > 11:chain:RunnableSequence > 12:chain:RunnableAssign<agent_scratchpad> > 13:chain:RunnableParallel<agent_scratchpad>] [6ms] Exiting Chain run with output:\n",
            "\u001b[0m[outputs]\n",
            "\u001b[36;1m\u001b[1;3m[chain/end]\u001b[0m \u001b[1m[1:chain:AgentExecutor > 11:chain:RunnableSequence > 12:chain:RunnableAssign<agent_scratchpad>] [11ms] Exiting Chain run with output:\n",
            "\u001b[0m[outputs]\n",
            "\u001b[32;1m\u001b[1;3m[chain/start]\u001b[0m \u001b[1m[1:chain:AgentExecutor > 11:chain:RunnableSequence > 15:prompt:ChatPromptTemplate] Entering Prompt run with input:\n",
            "\u001b[0m[inputs]\n",
            "\u001b[36;1m\u001b[1;3m[chain/end]\u001b[0m \u001b[1m[1:chain:AgentExecutor > 11:chain:RunnableSequence > 15:prompt:ChatPromptTemplate] [1ms] Exiting Prompt run with output:\n",
            "\u001b[0m[outputs]\n",
            "\u001b[32;1m\u001b[1;3m[llm/start]\u001b[0m \u001b[1m[1:chain:AgentExecutor > 11:chain:RunnableSequence > 16:llm:ChatOpenAI] Entering LLM run with input:\n",
            "\u001b[0m{\n",
            "  \"prompts\": [\n",
            "    \"System: You are a helpful assistant\\nHuman: 서울과 부산의 날씨를 알려줘\\nAI: \\nTool: 부분적으로 흐린 날씨 바람: 빛이 공기 , 북동 , 속도 1 초당 미터 돌풍: 3 초당 미터 상대 습도: 85% 흐림: 55% 기압: 1009 고전력 증폭기 자외선 지수: 0,2 (낮음) (서울=연합뉴스) 계승현 기자 = 토요일인 6일 낮 기온이 남부지방을 중심으로 20도 이상으로 올라 포근하겠다. ... 다음은 6일 지역별 날씨 전망. [오전, 오후](최저∼최고기온) <오전, 오후 강수 확률> 강일동 +9 °C. 비산동 +8 °C. 안양시 +8 °C. 서울특별시의 날씨 서울특별시의 기온 서울특별시의 시간별 날씨 예보 오늘 서울특별시 날씨 서울특별시에서 3 일간 날씨 서울특별시의 날씨 5 일 일주일 동안 서울특별시의 날씨 일출과 일몰 서울특별시 서울 ... 날씨 목록. 날씨. 숨은 단층 조사했더니...서울 북쪽 '미소지진' 다수 발생. 2024.04.04 19:19. 공유하기. 재생. [날씨] 내일 점차 맑아지며 낮 동안 포근 ... 온통 눈 세상 대관령. (평창=연합뉴스) 유형재 기자 = 전날 내린 폭설로 설국이 된 강원 평창군 대관령 일원에 13일 관광객들이 찾아와 겨울 낭만을 만끽하고 있다. 2023.12.13 yoo21@yna.co.kr. (서울=연합뉴스) 이미령 기자 = 토요일인 16일 기온이 뚝 떨어져 춥고 서쪽 ...\\nTool: 부산cc 날씨 컨트리클럽 주간일기예보를 알아보겠습니다. 현재 컨트리클럽 주변의 날씨 상황과 함께 실시간으로 반영되는 날씨 정보를 확인할 수 있으며, 주간 일별날씨예보와 비, 바람, 돌풍, 풍향, 눈 등의 세부적인 기상변화를 확인할 수 있습니다. 부산광역시 가야동 수영 동래 화명동 김해시 기장 김해시 일광 양산시 산본 장안 양산시 통신동 창원시 양산시 삼랑진 내광 온양읍 창원시 거제시 남창 삼광 마산시 온산읍 산양 신현 진동면 서상리 내소 진동리 밀양시 부산 진북면 격동 대전 울산광역시 산내면 ... 날씨 문자 및 기상 조건의 예측: 조금 비 바람: 산들 바람 , 북동 , 속도 2 초당 미터 돌풍: 8 초당 미터 상대 습도: 94% 흐림: 100% 기압: 973 고전력 증폭기 강수량: 0,2 밀리미터 가시성: 32% 부산 광역시 (Busan) ☀ 10일 기간 일기예보, 기상 정보, 웹카메라 화면, 일출 및 일몰, 지역의 풍속 및 강수량 Ventusky: 지도상 일기예보 소개 0에서 2까지의 uv 지수는 평균적인 사람의 태양 광선으로부터의 위험이 낮음을 의미합니다. 밝은 날에는 선글라스를 착용하십시오.\"\n",
            "  ]\n",
            "}\n",
            "\u001b[36;1m\u001b[1;3m[llm/end]\u001b[0m \u001b[1m[1:chain:AgentExecutor > 11:chain:RunnableSequence > 16:llm:ChatOpenAI] [3.03s] Exiting LLM run with output:\n",
            "\u001b[0m{\n",
            "  \"generations\": [\n",
            "    [\n",
            "      {\n",
            "        \"text\": \"서울의 날씨:\\n- 현재 서울의 기온은 1도입니다.\\n- 습도는 85%이며 강수 확률은 55%입니다.\\n- 기압은 1009 hPa이고, 바람은 북동쪽으로 0.2m/s의 속도로 불고 있습니다.\\n\\n부산의 날씨:\\n- 현재 부산의 기온은 2도입니다.\\n- 습도는 94%이며 강수 확률은 100%입니다.\\n- 기압은 973 hPa이고, 바람은 북동쪽으로 0.2m/s의 속도로 불고 있습니다.\",\n",
            "        \"generation_info\": {\n",
            "          \"finish_reason\": \"stop\"\n",
            "        },\n",
            "        \"type\": \"ChatGenerationChunk\",\n",
            "        \"message\": {\n",
            "          \"lc\": 1,\n",
            "          \"type\": \"constructor\",\n",
            "          \"id\": [\n",
            "            \"langchain\",\n",
            "            \"schema\",\n",
            "            \"messages\",\n",
            "            \"AIMessageChunk\"\n",
            "          ],\n",
            "          \"kwargs\": {\n",
            "            \"content\": \"서울의 날씨:\\n- 현재 서울의 기온은 1도입니다.\\n- 습도는 85%이며 강수 확률은 55%입니다.\\n- 기압은 1009 hPa이고, 바람은 북동쪽으로 0.2m/s의 속도로 불고 있습니다.\\n\\n부산의 날씨:\\n- 현재 부산의 기온은 2도입니다.\\n- 습도는 94%이며 강수 확률은 100%입니다.\\n- 기압은 973 hPa이고, 바람은 북동쪽으로 0.2m/s의 속도로 불고 있습니다.\",\n",
            "            \"example\": false,\n",
            "            \"additional_kwargs\": {},\n",
            "            \"response_metadata\": {\n",
            "              \"finish_reason\": \"stop\"\n",
            "            },\n",
            "            \"id\": \"run-3e0705f0-bccd-4ed2-9f1c-83f350dd3f36\"\n",
            "          }\n",
            "        }\n",
            "      }\n",
            "    ]\n",
            "  ],\n",
            "  \"llm_output\": null,\n",
            "  \"run\": null\n",
            "}\n",
            "\u001b[32;1m\u001b[1;3m[chain/start]\u001b[0m \u001b[1m[1:chain:AgentExecutor > 11:chain:RunnableSequence > 17:parser:OpenAIToolsAgentOutputParser] Entering Parser run with input:\n",
            "\u001b[0m[inputs]\n",
            "\u001b[36;1m\u001b[1;3m[chain/end]\u001b[0m \u001b[1m[1:chain:AgentExecutor > 11:chain:RunnableSequence > 17:parser:OpenAIToolsAgentOutputParser] [1ms] Exiting Parser run with output:\n",
            "\u001b[0m[outputs]\n",
            "\u001b[36;1m\u001b[1;3m[chain/end]\u001b[0m \u001b[1m[1:chain:AgentExecutor > 11:chain:RunnableSequence] [3.05s] Exiting Chain run with output:\n",
            "\u001b[0m[outputs]\n",
            "\u001b[36;1m\u001b[1;3m[chain/end]\u001b[0m \u001b[1m[1:chain:AgentExecutor] [7.31s] Exiting Chain run with output:\n",
            "\u001b[0m{\n",
            "  \"output\": \"서울의 날씨:\\n- 현재 서울의 기온은 1도입니다.\\n- 습도는 85%이며 강수 확률은 55%입니다.\\n- 기압은 1009 hPa이고, 바람은 북동쪽으로 0.2m/s의 속도로 불고 있습니다.\\n\\n부산의 날씨:\\n- 현재 부산의 기온은 2도입니다.\\n- 습도는 94%이며 강수 확률은 100%입니다.\\n- 기압은 973 hPa이고, 바람은 북동쪽으로 0.2m/s의 속도로 불고 있습니다.\"\n",
            "}\n"
          ]
        }
      ]
    },
    {
      "cell_type": "code",
      "source": [
        "print(result[\"output\"])"
      ],
      "metadata": {
        "colab": {
          "base_uri": "https://localhost:8080/"
        },
        "id": "lVSJAdo-E3pU",
        "outputId": "edcf6b7e-f373-4e20-df98-e0aa06ca63b3"
      },
      "execution_count": 17,
      "outputs": [
        {
          "output_type": "stream",
          "name": "stdout",
          "text": [
            "서울의 날씨:\n",
            "- 현재 서울의 기온은 1도입니다.\n",
            "- 습도는 85%이며 강수 확률은 55%입니다.\n",
            "- 기압은 1009 hPa이고, 바람은 북동쪽으로 0.2m/s의 속도로 불고 있습니다.\n",
            "\n",
            "부산의 날씨:\n",
            "- 현재 부산의 기온은 2도입니다.\n",
            "- 습도는 94%이며 강수 확률은 100%입니다.\n",
            "- 기압은 973 hPa이고, 바람은 북동쪽으로 0.2m/s의 속도로 불고 있습니다.\n"
          ]
        }
      ]
    },
    {
      "cell_type": "markdown",
      "metadata": {
        "id": "IUk1I4cuY_ef"
      },
      "source": [
        "### (칼럼) Function calling을 활용한 OurputParser, Extraction, Tagging"
      ]
    },
    {
      "cell_type": "code",
      "execution_count": 16,
      "metadata": {
        "id": "G0rOddweWbQ2",
        "colab": {
          "base_uri": "https://localhost:8080/"
        },
        "outputId": "3fff4503-2b34-4350-9317-c91d5e036b68"
      },
      "outputs": [
        {
          "output_type": "stream",
          "name": "stdout",
          "text": [
            "\u001b[32;1m\u001b[1;3m[chain/start]\u001b[0m \u001b[1m[1:chain:LLMChain] Entering Chain run with input:\n",
            "\u001b[0m{\n",
            "  \"input\": \"\\nAlex is 5 feet tall. Claudia is 1 feet taller Alex and jumps higher than him. Claudia is a brunette and Alex is blonde.\\nAlex's dog Frosty is a labrador and likes to play hide and seek.\\n\"\n",
            "}\n",
            "\u001b[32;1m\u001b[1;3m[llm/start]\u001b[0m \u001b[1m[1:chain:LLMChain > 2:llm:ChatOpenAI] Entering LLM run with input:\n",
            "\u001b[0m{\n",
            "  \"prompts\": [\n",
            "    \"Human: Extract and save the relevant entities mentioned in the following passage together with their properties.\\n\\nOnly extract the properties mentioned in the 'information_extraction' function.\\n\\nIf a property is not present and is not required in the function parameters, do not include it in the output.\\n\\nPassage:\\n\\nAlex is 5 feet tall. Claudia is 1 feet taller Alex and jumps higher than him. Claudia is a brunette and Alex is blonde.\\nAlex's dog Frosty is a labrador and likes to play hide and seek.\"\n",
            "  ]\n",
            "}\n",
            "\u001b[36;1m\u001b[1;3m[llm/end]\u001b[0m \u001b[1m[1:chain:LLMChain > 2:llm:ChatOpenAI] [1.11s] Exiting LLM run with output:\n",
            "\u001b[0m{\n",
            "  \"generations\": [\n",
            "    [\n",
            "      {\n",
            "        \"text\": \"\",\n",
            "        \"generation_info\": {\n",
            "          \"finish_reason\": \"stop\",\n",
            "          \"logprobs\": null\n",
            "        },\n",
            "        \"type\": \"ChatGeneration\",\n",
            "        \"message\": {\n",
            "          \"lc\": 1,\n",
            "          \"type\": \"constructor\",\n",
            "          \"id\": [\n",
            "            \"langchain\",\n",
            "            \"schema\",\n",
            "            \"messages\",\n",
            "            \"AIMessage\"\n",
            "          ],\n",
            "          \"kwargs\": {\n",
            "            \"content\": \"\",\n",
            "            \"additional_kwargs\": {\n",
            "              \"function_call\": {\n",
            "                \"arguments\": \"{\\\"info\\\":[{\\\"person_name\\\":\\\"Alex\\\",\\\"person_height\\\":5,\\\"person_hair_color\\\":\\\"blonde\\\"},{\\\"person_name\\\":\\\"Claudia\\\",\\\"person_height\\\":6,\\\"person_hair_color\\\":\\\"brunette\\\",\\\"dog_name\\\":\\\"Frosty\\\",\\\"dog_breed\\\":\\\"labrador\\\"}]}\",\n",
            "                \"name\": \"information_extraction\"\n",
            "              }\n",
            "            },\n",
            "            \"name\": null,\n",
            "            \"id\": \"run-c3087d63-26ed-4c7f-ba72-41c83d61d967-0\"\n",
            "          }\n",
            "        }\n",
            "      }\n",
            "    ]\n",
            "  ],\n",
            "  \"llm_output\": {\n",
            "    \"token_usage\": {\n",
            "      \"completion_tokens\": 57,\n",
            "      \"prompt_tokens\": 213,\n",
            "      \"total_tokens\": 270\n",
            "    },\n",
            "    \"model_name\": \"gpt-3.5-turbo\",\n",
            "    \"system_fingerprint\": \"fp_b28b39ffa8\"\n",
            "  },\n",
            "  \"run\": null\n",
            "}\n",
            "\u001b[36;1m\u001b[1;3m[chain/end]\u001b[0m \u001b[1m[1:chain:LLMChain] [1.11s] Exiting Chain run with output:\n",
            "\u001b[0m{\n",
            "  \"text\": [\n",
            "    {\n",
            "      \"person_name\": \"Alex\",\n",
            "      \"person_height\": 5,\n",
            "      \"person_hair_color\": \"blonde\"\n",
            "    },\n",
            "    {\n",
            "      \"person_name\": \"Claudia\",\n",
            "      \"person_height\": 6,\n",
            "      \"person_hair_color\": \"brunette\",\n",
            "      \"dog_name\": \"Frosty\",\n",
            "      \"dog_breed\": \"labrador\"\n",
            "    }\n",
            "  ]\n",
            "}\n",
            "{\n",
            "  \"input\": \"\\nAlex is 5 feet tall. Claudia is 1 feet taller Alex and jumps higher than him. Claudia is a brunette and Alex is blonde.\\nAlex's dog Frosty is a labrador and likes to play hide and seek.\\n\",\n",
            "  \"text\": [\n",
            "    {\n",
            "      \"person_name\": \"Alex\",\n",
            "      \"person_height\": 5,\n",
            "      \"person_hair_color\": \"blonde\"\n",
            "    },\n",
            "    {\n",
            "      \"person_name\": \"Claudia\",\n",
            "      \"person_height\": 6,\n",
            "      \"person_hair_color\": \"brunette\",\n",
            "      \"dog_name\": \"Frosty\",\n",
            "      \"dog_breed\": \"labrador\"\n",
            "    }\n",
            "  ]\n",
            "}\n"
          ]
        }
      ],
      "source": [
        "import json\n",
        "\n",
        "from langchain_openai import ChatOpenAI\n",
        "from langchain.chains import create_extraction_chain\n",
        "\n",
        "schema = {\n",
        "    \"properties\": {\n",
        "        \"person_name\": {\"type\": \"string\"},\n",
        "        \"person_height\": {\"type\": \"integer\"},\n",
        "        \"person_hair_color\": {\"type\": \"string\"},\n",
        "        \"dog_name\": {\"type\": \"string\"},\n",
        "        \"dog_breed\": {\"type\": \"string\"},\n",
        "    },\n",
        "    \"required\": [\"person_name\", \"person_height\"],\n",
        "}\n",
        "text = \"\"\"\n",
        "Alex is 5 feet tall. Claudia is 1 feet taller Alex and jumps higher than him. Claudia is a brunette and Alex is blonde.\n",
        "Alex's dog Frosty is a labrador and likes to play hide and seek.\n",
        "\"\"\"\n",
        "\n",
        "chat = ChatOpenAI(model=\"gpt-3.5-turbo\", temperature=0)\n",
        "chain = create_extraction_chain(schema, chat)\n",
        "\n",
        "people = chain.invoke(text)"
      ]
    },
    {
      "cell_type": "code",
      "source": [
        "print(json.dumps(people, indent=2))"
      ],
      "metadata": {
        "colab": {
          "base_uri": "https://localhost:8080/"
        },
        "id": "GUGHhVcpnR0W",
        "outputId": "539b2075-05bc-4317-a6c5-08490e60e8ca"
      },
      "execution_count": 17,
      "outputs": [
        {
          "output_type": "stream",
          "name": "stdout",
          "text": [
            "{\n",
            "  \"input\": \"\\nAlex is 5 feet tall. Claudia is 1 feet taller Alex and jumps higher than him. Claudia is a brunette and Alex is blonde.\\nAlex's dog Frosty is a labrador and likes to play hide and seek.\\n\",\n",
            "  \"text\": [\n",
            "    {\n",
            "      \"person_name\": \"Alex\",\n",
            "      \"person_height\": 5,\n",
            "      \"person_hair_color\": \"blonde\"\n",
            "    },\n",
            "    {\n",
            "      \"person_name\": \"Claudia\",\n",
            "      \"person_height\": 6,\n",
            "      \"person_hair_color\": \"brunette\",\n",
            "      \"dog_name\": \"Frosty\",\n",
            "      \"dog_breed\": \"labrador\"\n",
            "    }\n",
            "  ]\n",
            "}\n"
          ]
        }
      ]
    },
    {
      "cell_type": "markdown",
      "metadata": {
        "id": "HoyUU671fJ-N"
      },
      "source": [
        "## 요약"
      ]
    },
    {
      "cell_type": "markdown",
      "metadata": {
        "id": "JcGAKOdafMy0"
      },
      "source": [
        "### (칼럼) Evaluation"
      ]
    },
    {
      "cell_type": "code",
      "execution_count": 18,
      "metadata": {
        "id": "KZedGP8fZPtk",
        "colab": {
          "base_uri": "https://localhost:8080/"
        },
        "outputId": "86dfa3b0-8aa5-428f-e7b7-84c47359fa38"
      },
      "outputs": [
        {
          "output_type": "stream",
          "name": "stdout",
          "text": [
            "\u001b[32;1m\u001b[1;3m[chain/start]\u001b[0m \u001b[1m[1:chain:QAEvalChain] Entering Chain run with input:\n",
            "\u001b[0m{\n",
            "  \"query\": \"나는 시장에 가서 사과 10개를 샀어. 사과 2개를 이웃에게 주고, 2개를 수리공에게 주었어. 그리고 사과 5개를 더 사서 1개는 내가 먹었어. 나는 몇 개의 사과를 가지고 있었니?\",\n",
            "  \"answer\": \"10개\",\n",
            "  \"result\": \"먼저 사과 10개로 시작했어.\\n이웃에게 2개, 수리공에게 2개를 나누어 주었으므로 사과가 6개가 남았어.\\n그런 다음 사과 5개를 더 사서 이제 사과가 11개가 되었어.\\n마지막으로 사과 1개를 먹었으므로 사과 10개가 남게 돼.\"\n",
            "}\n",
            "\u001b[32;1m\u001b[1;3m[llm/start]\u001b[0m \u001b[1m[1:chain:QAEvalChain > 2:llm:ChatOpenAI] Entering LLM run with input:\n",
            "\u001b[0m{\n",
            "  \"prompts\": [\n",
            "    \"Human: You are a teacher grading a quiz.\\nYou are given a question, the student's answer, and the true answer, and are asked to score the student answer as either CORRECT or INCORRECT.\\n\\nExample Format:\\nQUESTION: question here\\nSTUDENT ANSWER: student's answer here\\nTRUE ANSWER: true answer here\\nGRADE: CORRECT or INCORRECT here\\n\\nGrade the student answers based ONLY on their factual accuracy. Ignore differences in punctuation and phrasing between the student answer and true answer. It is OK if the student answer contains more information than the true answer, as long as it does not contain any conflicting statements. Begin! \\n\\nQUESTION: 나는 시장에 가서 사과 10개를 샀어. 사과 2개를 이웃에게 주고, 2개를 수리공에게 주었어. 그리고 사과 5개를 더 사서 1개는 내가 먹었어. 나는 몇 개의 사과를 가지고 있었니?\\nSTUDENT ANSWER: 먼저 사과 10개로 시작했어.\\n이웃에게 2개, 수리공에게 2개를 나누어 주었으므로 사과가 6개가 남았어.\\n그런 다음 사과 5개를 더 사서 이제 사과가 11개가 되었어.\\n마지막으로 사과 1개를 먹었으므로 사과 10개가 남게 돼.\\nTRUE ANSWER: 10개\\nGRADE:\"\n",
            "  ]\n",
            "}\n",
            "\u001b[36;1m\u001b[1;3m[llm/end]\u001b[0m \u001b[1m[1:chain:QAEvalChain > 2:llm:ChatOpenAI] [564ms] Exiting LLM run with output:\n",
            "\u001b[0m{\n",
            "  \"generations\": [\n",
            "    [\n",
            "      {\n",
            "        \"text\": \"CORRECT\",\n",
            "        \"generation_info\": {\n",
            "          \"finish_reason\": \"stop\",\n",
            "          \"logprobs\": null\n",
            "        },\n",
            "        \"type\": \"ChatGeneration\",\n",
            "        \"message\": {\n",
            "          \"lc\": 1,\n",
            "          \"type\": \"constructor\",\n",
            "          \"id\": [\n",
            "            \"langchain\",\n",
            "            \"schema\",\n",
            "            \"messages\",\n",
            "            \"AIMessage\"\n",
            "          ],\n",
            "          \"kwargs\": {\n",
            "            \"content\": \"CORRECT\",\n",
            "            \"additional_kwargs\": {}\n",
            "          }\n",
            "        }\n",
            "      }\n",
            "    ]\n",
            "  ],\n",
            "  \"llm_output\": {\n",
            "    \"token_usage\": {\n",
            "      \"completion_tokens\": 2,\n",
            "      \"prompt_tokens\": 369,\n",
            "      \"total_tokens\": 371\n",
            "    },\n",
            "    \"model_name\": \"gpt-4\",\n",
            "    \"system_fingerprint\": null\n",
            "  },\n",
            "  \"run\": null\n",
            "}\n",
            "\u001b[36;1m\u001b[1;3m[chain/end]\u001b[0m \u001b[1m[1:chain:QAEvalChain] [566ms] Exiting Chain run with output:\n",
            "\u001b[0m{\n",
            "  \"results\": \"CORRECT\"\n",
            "}\n"
          ]
        }
      ],
      "source": [
        "from langchain_openai import ChatOpenAI\n",
        "from langchain.evaluation import load_evaluator\n",
        "\n",
        "chat = ChatOpenAI(model=\"gpt-4\", temperature=0)\n",
        "\n",
        "evaluator = load_evaluator(\"qa\", eval_llm=chat)\n",
        "\n",
        "result = evaluator.evaluate_strings(\n",
        "    input=\"나는 시장에 가서 사과 10개를 샀어. 사과 2개를 이웃에게 주고, 2개를 수리공에게 주었어. 그리고 사과 5개를 더 사서 1개는 내가 먹었어. 나는 몇 개의 사과를 가지고 있었니?\",\n",
        "    prediction=\"\"\"먼저 사과 10개로 시작했어.\n",
        "이웃에게 2개, 수리공에게 2개를 나누어 주었으므로 사과가 6개가 남았어.\n",
        "그런 다음 사과 5개를 더 사서 이제 사과가 11개가 되었어.\n",
        "마지막으로 사과 1개를 먹었으므로 사과 10개가 남게 돼.\"\"\",\n",
        "    reference=\"10개\",\n",
        ")"
      ]
    },
    {
      "cell_type": "code",
      "source": [
        "print(result)"
      ],
      "metadata": {
        "colab": {
          "base_uri": "https://localhost:8080/"
        },
        "id": "zgJgyn5LnZ_y",
        "outputId": "470ac1a8-c5c6-415b-c82f-a90c4d68cbbd"
      },
      "execution_count": 19,
      "outputs": [
        {
          "output_type": "stream",
          "name": "stdout",
          "text": [
            "{'reasoning': 'CORRECT', 'value': 'CORRECT', 'score': 1}\n"
          ]
        }
      ]
    },
    {
      "cell_type": "markdown",
      "metadata": {
        "id": "01zbQY3op1Gc"
      },
      "source": [
        "위 입력은 [Chain-of-Thought Prompting | Prompt Engineering Guide](https://www.promptingguide.ai/kr/techniques/cot)에서 인용했습니다."
      ]
    }
  ],
  "metadata": {
    "colab": {
      "provenance": [],
      "include_colab_link": true
    },
    "kernelspec": {
      "display_name": "Python 3",
      "name": "python3"
    },
    "language_info": {
      "name": "python"
    }
  },
  "nbformat": 4,
  "nbformat_minor": 0
}